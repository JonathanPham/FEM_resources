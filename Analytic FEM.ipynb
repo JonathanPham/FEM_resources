{
 "cells": [
  {
   "cell_type": "markdown",
   "metadata": {},
   "source": [
    "# Analytic Finite Element Method\n",
    "\n",
    "This is a FEM implementation in a CAS and is intended to be useful\n",
    "for understanding the implementation of the method.\n",
    "\n",
    "The code solves the Navier-Cauchy equations for elasticity in 2D."
   ]
  },
  {
   "cell_type": "code",
   "execution_count": 1,
   "metadata": {
    "collapsed": false
   },
   "outputs": [
    {
     "name": "stdout",
     "output_type": "stream",
     "text": [
      "IPython console for SymPy 1.0 (Python 3.6.0-64-bit) (ground types: python)\n",
      "\n",
      "These commands were executed:\n",
      ">>> from __future__ import division\n",
      ">>> from sympy import *\n",
      ">>> x, y, z, t = symbols('x y z t')\n",
      ">>> k, m, n = symbols('k m n', integer=True)\n",
      ">>> f, g, h = symbols('f g h', cls=Function)\n",
      ">>> init_printing()\n",
      "\n",
      "Documentation can be found at http://docs.sympy.org/1.0/\n"
     ]
    }
   ],
   "source": [
    "from sympy import *\n",
    "init_session()"
   ]
  },
  {
   "cell_type": "code",
   "execution_count": 2,
   "metadata": {
    "collapsed": false
   },
   "outputs": [],
   "source": [
    "def const_model(E, nu, const=\"plane_stress\"):\n",
    "    if const == \"plane_stress\":\n",
    "        fac = E/(1 - nu**2)\n",
    "        C = fac*Matrix([\n",
    "            [1, nu, 0],\n",
    "            [nu, 1, 0],\n",
    "            [0, 0, (1 - nu)/2]])\n",
    "    elif const == \"plane_strain\":\n",
    "        fac = E*(1 - nu)/((1 - 2*nu)*(1 + nu))\n",
    "        C = fac*Matrix([\n",
    "            [1, nu/(1 - nu), 0],\n",
    "            [nu/(1 - nu), 1, 0],\n",
    "            [0, 0, (1 - 2*nu)/(2*(1 - nu))]])\n",
    "    return C"
   ]
  },
  {
   "cell_type": "code",
   "execution_count": 3,
   "metadata": {
    "collapsed": true
   },
   "outputs": [],
   "source": [
    "r, s = symbols(\"r s\")"
   ]
  },
  {
   "cell_type": "markdown",
   "metadata": {},
   "source": [
    "## Interpolation functions and matrices"
   ]
  },
  {
   "cell_type": "code",
   "execution_count": 4,
   "metadata": {
    "collapsed": false
   },
   "outputs": [
    {
     "data": {
      "image/png": "[encoded data removed]",
      "text/latex": [
       "$$\\left[\\begin{matrix}\\frac{1}{4} \\left(- r + 1\\right) \\left(- s + 1\\right)\\\\\\frac{1}{4} \\left(r + 1\\right) \\left(- s + 1\\right)\\\\\\frac{1}{4} \\left(r + 1\\right) \\left(s + 1\\right)\\\\\\frac{1}{4} \\left(- r + 1\\right) \\left(s + 1\\right)\\end{matrix}\\right]$$"
      ],
      "text/plain": [
       "⎡(-r + 1)⋅(-s + 1)⎤\n",
       "⎢─────────────────⎥\n",
       "⎢        4        ⎥\n",
       "⎢                 ⎥\n",
       "⎢(r + 1)⋅(-s + 1) ⎥\n",
       "⎢──────────────── ⎥\n",
       "⎢       4         ⎥\n",
       "⎢                 ⎥\n",
       "⎢ (r + 1)⋅(s + 1) ⎥\n",
       "⎢ ─────────────── ⎥\n",
       "⎢        4        ⎥\n",
       "⎢                 ⎥\n",
       "⎢(-r + 1)⋅(s + 1) ⎥\n",
       "⎢──────────────── ⎥\n",
       "⎣       4         ⎦"
      ]
     },
     "metadata": {},
     "output_type": "display_data"
    }
   ],
   "source": [
    "N = S(1)/4 *Matrix([\n",
    "[(1 - r)*(1 - s)],\n",
    "[(1 + r)*(1 - s)],\n",
    "[(1 + r)*(1 + s)],\n",
    "[(1 - r)*(1 + s)]])\n",
    "\n",
    "display(N)"
   ]
  },
  {
   "cell_type": "markdown",
   "metadata": {},
   "source": [
    "The interpolation matrix is a matrix with the interpolation\n",
    "functions reordered for each degree of freedom."
   ]
  },
  {
   "cell_type": "code",
   "execution_count": 5,
   "metadata": {
    "collapsed": false
   },
   "outputs": [
    {
     "data": {
      "image/png": "[encoded data removed]",
      "text/latex": [
       "$$\\left[\\begin{matrix}\\frac{1}{4} \\left(- r + 1\\right) \\left(- s + 1\\right) & 0\\\\0 & \\frac{1}{4} \\left(- r + 1\\right) \\left(- s + 1\\right)\\\\\\frac{1}{4} \\left(r + 1\\right) \\left(- s + 1\\right) & 0\\\\0 & \\frac{1}{4} \\left(r + 1\\right) \\left(- s + 1\\right)\\\\\\frac{1}{4} \\left(r + 1\\right) \\left(s + 1\\right) & 0\\\\0 & \\frac{1}{4} \\left(r + 1\\right) \\left(s + 1\\right)\\\\\\frac{1}{4} \\left(- r + 1\\right) \\left(s + 1\\right) & 0\\\\0 & \\frac{1}{4} \\left(- r + 1\\right) \\left(s + 1\\right)\\end{matrix}\\right]$$"
      ],
      "text/plain": [
       "⎡(-r + 1)⋅(-s + 1)                   ⎤\n",
       "⎢─────────────────          0        ⎥\n",
       "⎢        4                           ⎥\n",
       "⎢                                    ⎥\n",
       "⎢                   (-r + 1)⋅(-s + 1)⎥\n",
       "⎢        0          ─────────────────⎥\n",
       "⎢                           4        ⎥\n",
       "⎢                                    ⎥\n",
       "⎢(r + 1)⋅(-s + 1)                    ⎥\n",
       "⎢────────────────           0        ⎥\n",
       "⎢       4                            ⎥\n",
       "⎢                                    ⎥\n",
       "⎢                   (r + 1)⋅(-s + 1) ⎥\n",
       "⎢        0          ──────────────── ⎥\n",
       "⎢                          4         ⎥\n",
       "⎢                                    ⎥\n",
       "⎢ (r + 1)⋅(s + 1)                    ⎥\n",
       "⎢ ───────────────           0        ⎥\n",
       "⎢        4                           ⎥\n",
       "⎢                                    ⎥\n",
       "⎢                    (r + 1)⋅(s + 1) ⎥\n",
       "⎢        0           ─────────────── ⎥\n",
       "⎢                           4        ⎥\n",
       "⎢                                    ⎥\n",
       "⎢(-r + 1)⋅(s + 1)                    ⎥\n",
       "⎢────────────────           0        ⎥\n",
       "⎢       4                            ⎥\n",
       "⎢                                    ⎥\n",
       "⎢                   (-r + 1)⋅(s + 1) ⎥\n",
       "⎢        0          ──────────────── ⎥\n",
       "⎣                          4         ⎦"
      ]
     },
     "metadata": {},
     "output_type": "display_data"
    }
   ],
   "source": [
    "H = zeros(2, 8)\n",
    "for cont in range(4):\n",
    "    H[0, 2*cont] = N[cont]\n",
    "    H[1, 2*cont + 1] = N[cont]\n",
    "\n",
    "display(H.T)"
   ]
  },
  {
   "cell_type": "markdown",
   "metadata": {},
   "source": [
    "The local derivatives matrix is formed with the derivatives of the interpolation functions"
   ]
  },
  {
   "cell_type": "code",
   "execution_count": 6,
   "metadata": {
    "collapsed": false
   },
   "outputs": [
    {
     "data": {
      "image/png": "[encoded data removed]",
      "text/latex": [
       "$$\\left[\\begin{matrix}\\frac{s}{4} - \\frac{1}{4} & - \\frac{s}{4} + \\frac{1}{4} & \\frac{s}{4} + \\frac{1}{4} & - \\frac{s}{4} - \\frac{1}{4}\\\\\\frac{r}{4} - \\frac{1}{4} & - \\frac{r}{4} - \\frac{1}{4} & \\frac{r}{4} + \\frac{1}{4} & - \\frac{r}{4} + \\frac{1}{4}\\end{matrix}\\right]$$"
      ],
      "text/plain": [
       "⎡s   1    s   1  s   1    s   1⎤\n",
       "⎢─ - ─  - ─ + ─  ─ + ─  - ─ - ─⎥\n",
       "⎢4   4    4   4  4   4    4   4⎥\n",
       "⎢                              ⎥\n",
       "⎢r   1    r   1  r   1    r   1⎥\n",
       "⎢─ - ─  - ─ - ─  ─ + ─  - ─ + ─⎥\n",
       "⎣4   4    4   4  4   4    4   4⎦"
      ]
     },
     "metadata": {},
     "output_type": "display_data"
    }
   ],
   "source": [
    "dHdr = zeros(2, 4)\n",
    "for cont in range(4):\n",
    "    dHdr[0, cont] = diff(N[cont], r)\n",
    "    dHdr[1, cont] = diff(N[cont], s)\n",
    "\n",
    "display(dHdr)"
   ]
  },
  {
   "cell_type": "markdown",
   "metadata": {},
   "source": [
    "## Gauss integration"
   ]
  },
  {
   "cell_type": "code",
   "execution_count": 7,
   "metadata": {
    "collapsed": true
   },
   "outputs": [],
   "source": [
    "def gauss_int2d(f, x, y):\n",
    "    acu = 0\n",
    "    pts = [-1/sqrt(3), 1/sqrt(3)]\n",
    "    w = [1, 1]\n",
    "    for i in range(2):\n",
    "        for j in range(2):\n",
    "            acu += f.subs({x: pts[i], y: pts[j]})*w[i]*w[j]\n",
    "    \n",
    "    return acu"
   ]
  },
  {
   "cell_type": "markdown",
   "metadata": {},
   "source": [
    "## Local matrices generation"
   ]
  },
  {
   "cell_type": "markdown",
   "metadata": {},
   "source": [
    "The Jacobian of the transformation is given by the product of the derivative\n",
    "matrix and the coordinates of each element"
   ]
  },
  {
   "cell_type": "code",
   "execution_count": 8,
   "metadata": {
    "collapsed": true
   },
   "outputs": [],
   "source": [
    "def jaco(dHdr, coord_el):\n",
    "    return simplify(dHdr * coord_el)\n",
    "\n",
    "\n",
    "def jaco_inv(dHdr, coord_el):\n",
    "    jac = jaco(dHdr, coord_el)\n",
    "    return Matrix([[jac[1, 1], -jac[0, 1]], [-jac[1, 0], jac[0, 0]]])/jac.det()"
   ]
  },
  {
   "cell_type": "markdown",
   "metadata": {},
   "source": [
    "We can re-arrange the derivatives of the interpolation function as a matrix that\n",
    "_translates_ from displacements to strains, commonly denoted by $B$"
   ]
  },
  {
   "cell_type": "code",
   "execution_count": 9,
   "metadata": {
    "collapsed": true
   },
   "outputs": [],
   "source": [
    "def B_mat(dHdr, coord_el):\n",
    "    dHdx = jaco_inv(dHdr, coord_el) * dHdr\n",
    "    B = zeros(3, 8)\n",
    "    for cont in range(4):\n",
    "        B[0, 2*cont] = dHdx[0, cont]\n",
    "        B[1, 2*cont + 1] = dHdx[1, cont]\n",
    "        B[2, 2*cont] = dHdx[1, cont]\n",
    "        B[2, 2*cont + 1] = dHdx[0, cont]\n",
    "\n",
    "    return simplify(B)"
   ]
  },
  {
   "cell_type": "markdown",
   "metadata": {},
   "source": [
    "With these elements we can form the local stiffness and mass matrices."
   ]
  },
  {
   "cell_type": "code",
   "execution_count": 10,
   "metadata": {
    "collapsed": false
   },
   "outputs": [],
   "source": [
    "def local_mass(H, coord_el, rho):\n",
    "    det = jaco(dHdr, coord_el).det()\n",
    "    integrand = rho * det * expand(H.T * H) \n",
    "    mass_mat = zeros(8, 8)\n",
    "    for row in range(8):\n",
    "        for col in range(row, 8):\n",
    "            mass_mat[row, col] = gauss_int2d(integrand[row, col], r, s)\n",
    "            mass_mat[col, row] = mass_mat[row, col]\n",
    "\n",
    "    return mass_mat\n",
    "\n",
    "\n",
    "def local_stiff(dHdr, coord_el, C):\n",
    "    det = jaco(dHdr, coord_el).det()\n",
    "    B = B_mat(dHdr, coord_el)\n",
    "    integrand = det * expand(B.T * C * B)\n",
    "    stiff_mat = zeros(8, 8)\n",
    "    for row in range(8):\n",
    "        for col in range(row, 8):\n",
    "            stiff_mat[row, col] = gauss_int2d(integrand[row, col], r, s)\n",
    "            stiff_mat[col, row] = stiff_mat[row, col]\n",
    "\n",
    "    return stiff_mat"
   ]
  },
  {
   "cell_type": "markdown",
   "metadata": {},
   "source": [
    "## Assembly process"
   ]
  },
  {
   "cell_type": "code",
   "execution_count": 11,
   "metadata": {
    "collapsed": true
   },
   "outputs": [],
   "source": [
    "def assembler(coords, elems, mat_props, const=\"plane_stress\"):\n",
    "    ncoords = coords.shape[0]\n",
    "    stiff_glob = zeros(2*ncoords, 2*ncoords)\n",
    "    mass_glob = zeros(2*ncoords, 2*ncoords)\n",
    "    for el_cont, elem in enumerate(elems):\n",
    "        E, nu, rho = mat_props[el_cont]\n",
    "        C = const_model(E, nu, const=const)\n",
    "        coord_el = coords[elem, :]\n",
    "        stiff_loc = local_stiff(dHdr, coord_el, C)\n",
    "        mass_loc = local_mass(H, coord_el, rho)\n",
    "        for row in range(4):\n",
    "            for col in range(4):\n",
    "                row_glob = elem[row]\n",
    "                col_glob = elem[col]\n",
    "                # Stiffness matrix\n",
    "                stiff_glob[2*row_glob, 2*col_glob] += stiff_loc[2*row, 2*col]\n",
    "                stiff_glob[2*row_glob, 2*col_glob + 1] += stiff_loc[2*row, 2*col + 1]\n",
    "                stiff_glob[2*row_glob + 1, 2*col_glob] += stiff_loc[2*row + 1, 2*col]\n",
    "                stiff_glob[2*row_glob + 1, 2*col_glob + 1] += stiff_loc[2*row + 1, 2*col + 1]\n",
    "                # Mass matrix\n",
    "                mass_glob[2*row_glob, 2*col_glob] += mass_loc[2*row, 2*col]\n",
    "                mass_glob[2*row_glob, 2*col_glob + 1] += mass_loc[2*row, 2*col + 1]\n",
    "                mass_glob[2*row_glob + 1, 2*col_glob] += mass_loc[2*row + 1, 2*col]\n",
    "                mass_glob[2*row_glob + 1, 2*col_glob + 1] += mass_loc[2*row + 1, 2*col + 1]\n",
    "\n",
    "    return stiff_glob, mass_glob"
   ]
  },
  {
   "cell_type": "markdown",
   "metadata": {},
   "source": [
    "## Example: Single element"
   ]
  },
  {
   "cell_type": "code",
   "execution_count": 12,
   "metadata": {
    "collapsed": false
   },
   "outputs": [],
   "source": [
    "coords = Matrix([\n",
    "    [-1, -1],\n",
    "    [1, -1],\n",
    "    [1, 1],\n",
    "    [-1, 1]])\n",
    "\n",
    "elems = [[0, 1, 2, 3]]\n",
    "\n",
    "mat_props = [[S(8)/3, S(1)/3, 1]] "
   ]
  },
  {
   "cell_type": "code",
   "execution_count": 13,
   "metadata": {
    "collapsed": false
   },
   "outputs": [],
   "source": [
    "stiff, mass = assembler(coords, elems, mat_props, const=\"plane_strain\")"
   ]
  },
  {
   "cell_type": "code",
   "execution_count": 14,
   "metadata": {
    "collapsed": false
   },
   "outputs": [
    {
     "data": {
      "image/png": "[encoded data removed]",
      "text/latex": [
       "$$\\left[\\begin{matrix}\\frac{5}{3} & \\frac{3}{4} & - \\frac{7}{6} & \\frac{1}{4} & - \\frac{5}{6} & - \\frac{3}{4} & \\frac{1}{3} & - \\frac{1}{4}\\\\\\frac{3}{4} & \\frac{5}{3} & - \\frac{1}{4} & \\frac{1}{3} & - \\frac{3}{4} & - \\frac{5}{6} & \\frac{1}{4} & - \\frac{7}{6}\\\\- \\frac{7}{6} & - \\frac{1}{4} & \\frac{5}{3} & - \\frac{3}{4} & \\frac{1}{3} & \\frac{1}{4} & - \\frac{5}{6} & \\frac{3}{4}\\\\\\frac{1}{4} & \\frac{1}{3} & - \\frac{3}{4} & \\frac{5}{3} & - \\frac{1}{4} & - \\frac{7}{6} & \\frac{3}{4} & - \\frac{5}{6}\\\\- \\frac{5}{6} & - \\frac{3}{4} & \\frac{1}{3} & - \\frac{1}{4} & \\frac{5}{3} & \\frac{3}{4} & - \\frac{7}{6} & \\frac{1}{4}\\\\- \\frac{3}{4} & - \\frac{5}{6} & \\frac{1}{4} & - \\frac{7}{6} & \\frac{3}{4} & \\frac{5}{3} & - \\frac{1}{4} & \\frac{1}{3}\\\\\\frac{1}{3} & \\frac{1}{4} & - \\frac{5}{6} & \\frac{3}{4} & - \\frac{7}{6} & - \\frac{1}{4} & \\frac{5}{3} & - \\frac{3}{4}\\\\- \\frac{1}{4} & - \\frac{7}{6} & \\frac{3}{4} & - \\frac{5}{6} & \\frac{1}{4} & \\frac{1}{3} & - \\frac{3}{4} & \\frac{5}{3}\\end{matrix}\\right]$$"
      ],
      "text/plain": [
       "⎡5/3   3/4   -7/6  1/4   -5/6  -3/4  1/3   -1/4⎤\n",
       "⎢                                              ⎥\n",
       "⎢3/4   5/3   -1/4  1/3   -3/4  -5/6  1/4   -7/6⎥\n",
       "⎢                                              ⎥\n",
       "⎢-7/6  -1/4  5/3   -3/4  1/3   1/4   -5/6  3/4 ⎥\n",
       "⎢                                              ⎥\n",
       "⎢1/4   1/3   -3/4  5/3   -1/4  -7/6  3/4   -5/6⎥\n",
       "⎢                                              ⎥\n",
       "⎢-5/6  -3/4  1/3   -1/4  5/3   3/4   -7/6  1/4 ⎥\n",
       "⎢                                              ⎥\n",
       "⎢-3/4  -5/6  1/4   -7/6  3/4   5/3   -1/4  1/3 ⎥\n",
       "⎢                                              ⎥\n",
       "⎢1/3   1/4   -5/6  3/4   -7/6  -1/4  5/3   -3/4⎥\n",
       "⎢                                              ⎥\n",
       "⎣-1/4  -7/6  3/4   -5/6  1/4   1/3   -3/4  5/3 ⎦"
      ]
     },
     "execution_count": 14,
     "metadata": {},
     "output_type": "execute_result"
    }
   ],
   "source": [
    "stiff"
   ]
  },
  {
   "cell_type": "code",
   "execution_count": 15,
   "metadata": {
    "collapsed": false
   },
   "outputs": [
    {
     "data": {
      "image/png": "[encoded data removed]",
      "text/latex": [
       "$$\\left[\\begin{matrix}\\frac{4}{9} & 0 & \\frac{2}{9} & 0 & \\frac{1}{9} & 0 & \\frac{2}{9} & 0\\\\0 & \\frac{4}{9} & 0 & \\frac{2}{9} & 0 & \\frac{1}{9} & 0 & \\frac{2}{9}\\\\\\frac{2}{9} & 0 & \\frac{4}{9} & 0 & \\frac{2}{9} & 0 & \\frac{1}{9} & 0\\\\0 & \\frac{2}{9} & 0 & \\frac{4}{9} & 0 & \\frac{2}{9} & 0 & \\frac{1}{9}\\\\\\frac{1}{9} & 0 & \\frac{2}{9} & 0 & \\frac{4}{9} & 0 & \\frac{2}{9} & 0\\\\0 & \\frac{1}{9} & 0 & \\frac{2}{9} & 0 & \\frac{4}{9} & 0 & \\frac{2}{9}\\\\\\frac{2}{9} & 0 & \\frac{1}{9} & 0 & \\frac{2}{9} & 0 & \\frac{4}{9} & 0\\\\0 & \\frac{2}{9} & 0 & \\frac{1}{9} & 0 & \\frac{2}{9} & 0 & \\frac{4}{9}\\end{matrix}\\right]$$"
      ],
      "text/plain": [
       "⎡4/9   0   2/9   0   1/9   0   2/9   0 ⎤\n",
       "⎢                                      ⎥\n",
       "⎢ 0   4/9   0   2/9   0   1/9   0   2/9⎥\n",
       "⎢                                      ⎥\n",
       "⎢2/9   0   4/9   0   2/9   0   1/9   0 ⎥\n",
       "⎢                                      ⎥\n",
       "⎢ 0   2/9   0   4/9   0   2/9   0   1/9⎥\n",
       "⎢                                      ⎥\n",
       "⎢1/9   0   2/9   0   4/9   0   2/9   0 ⎥\n",
       "⎢                                      ⎥\n",
       "⎢ 0   1/9   0   2/9   0   4/9   0   2/9⎥\n",
       "⎢                                      ⎥\n",
       "⎢2/9   0   1/9   0   2/9   0   4/9   0 ⎥\n",
       "⎢                                      ⎥\n",
       "⎣ 0   2/9   0   1/9   0   2/9   0   4/9⎦"
      ]
     },
     "execution_count": 15,
     "metadata": {},
     "output_type": "execute_result"
    }
   ],
   "source": [
    "mass"
   ]
  },
  {
   "cell_type": "markdown",
   "metadata": {},
   "source": [
    "## Example: $2 \\times 2$ mesh"
   ]
  },
  {
   "cell_type": "code",
   "execution_count": 25,
   "metadata": {
    "collapsed": true
   },
   "outputs": [],
   "source": [
    "coords = Matrix([\n",
    "        [-1, -1],\n",
    "        [0, -1],\n",
    "        [1, -1],\n",
    "        [-1,  0],\n",
    "        [0,  0],\n",
    "        [1,  0],\n",
    "        [-1,  1],\n",
    "        [0,  1],\n",
    "        [1,  1]])\n",
    "\n",
    "elems = [[0, 1, 4, 3],\n",
    "        [1, 2, 5, 4],\n",
    "        [3, 4, 7, 6],\n",
    "        [4, 5, 8, 7]]\n",
    "\n",
    "mat_props = [[16, S(1)/3, 1]]*4"
   ]
  },
  {
   "cell_type": "code",
   "execution_count": 29,
   "metadata": {
    "collapsed": false
   },
   "outputs": [
    {
     "data": {
      "image/png": "[encoded data removed]",
      "text/latex": [
       "$$\\left[\\begin{array}{cccccccccccccccccc}8 & 3 & -5 & 0 & 0 & 0 & 1 & 0 & -4 & -3 & 0 & 0 & 0 & 0 & 0 & 0 & 0 & 0\\\\3 & 8 & 0 & 1 & 0 & 0 & 0 & -5 & -3 & -4 & 0 & 0 & 0 & 0 & 0 & 0 & 0 & 0\\\\-5 & 0 & 16 & 0 & -5 & 0 & -4 & 3 & 2 & 0 & -4 & -3 & 0 & 0 & 0 & 0 & 0 & 0\\\\0 & 1 & 0 & 16 & 0 & 1 & 3 & -4 & 0 & -10 & -3 & -4 & 0 & 0 & 0 & 0 & 0 & 0\\\\0 & 0 & -5 & 0 & 8 & -3 & 0 & 0 & -4 & 3 & 1 & 0 & 0 & 0 & 0 & 0 & 0 & 0\\\\0 & 0 & 0 & 1 & -3 & 8 & 0 & 0 & 3 & -4 & 0 & -5 & 0 & 0 & 0 & 0 & 0 & 0\\\\1 & 0 & -4 & 3 & 0 & 0 & 16 & 0 & -10 & 0 & 0 & 0 & 1 & 0 & -4 & -3 & 0 & 0\\\\0 & -5 & 3 & -4 & 0 & 0 & 0 & 16 & 0 & 2 & 0 & 0 & 0 & -5 & -3 & -4 & 0 & 0\\\\-4 & -3 & 2 & 0 & -4 & 3 & -10 & 0 & 32 & 0 & -10 & 0 & -4 & 3 & 2 & 0 & -4 & -3\\\\-3 & -4 & 0 & -10 & 3 & -4 & 0 & 2 & 0 & 32 & 0 & 2 & 3 & -4 & 0 & -10 & -3 & -4\\\\0 & 0 & -4 & -3 & 1 & 0 & 0 & 0 & -10 & 0 & 16 & 0 & 0 & 0 & -4 & 3 & 1 & 0\\\\0 & 0 & -3 & -4 & 0 & -5 & 0 & 0 & 0 & 2 & 0 & 16 & 0 & 0 & 3 & -4 & 0 & -5\\\\0 & 0 & 0 & 0 & 0 & 0 & 1 & 0 & -4 & 3 & 0 & 0 & 8 & -3 & -5 & 0 & 0 & 0\\\\0 & 0 & 0 & 0 & 0 & 0 & 0 & -5 & 3 & -4 & 0 & 0 & -3 & 8 & 0 & 1 & 0 & 0\\\\0 & 0 & 0 & 0 & 0 & 0 & -4 & -3 & 2 & 0 & -4 & 3 & -5 & 0 & 16 & 0 & -5 & 0\\\\0 & 0 & 0 & 0 & 0 & 0 & -3 & -4 & 0 & -10 & 3 & -4 & 0 & 1 & 0 & 16 & 0 & 1\\\\0 & 0 & 0 & 0 & 0 & 0 & 0 & 0 & -4 & -3 & 1 & 0 & 0 & 0 & -5 & 0 & 8 & 3\\\\0 & 0 & 0 & 0 & 0 & 0 & 0 & 0 & -3 & -4 & 0 & -5 & 0 & 0 & 0 & 1 & 3 & 8\\end{array}\\right]$$"
      ],
      "text/plain": [
       "⎡8   3   -5   0   0   0    1   0   -4   -3    0   0   0   0   0    0   0   0 ⎤\n",
       "⎢                                                                            ⎥\n",
       "⎢3   8   0    1   0   0    0   -5  -3   -4    0   0   0   0   0    0   0   0 ⎥\n",
       "⎢                                                                            ⎥\n",
       "⎢-5  0   16   0   -5  0   -4   3    2    0   -4   -3  0   0   0    0   0   0 ⎥\n",
       "⎢                                                                            ⎥\n",
       "⎢0   1   0   16   0   1    3   -4   0   -10  -3   -4  0   0   0    0   0   0 ⎥\n",
       "⎢                                                                            ⎥\n",
       "⎢0   0   -5   0   8   -3   0   0   -4    3    1   0   0   0   0    0   0   0 ⎥\n",
       "⎢                                                                            ⎥\n",
       "⎢0   0   0    1   -3  8    0   0    3   -4    0   -5  0   0   0    0   0   0 ⎥\n",
       "⎢                                                                            ⎥\n",
       "⎢1   0   -4   3   0   0   16   0   -10   0    0   0   1   0   -4  -3   0   0 ⎥\n",
       "⎢                                                                            ⎥\n",
       "⎢0   -5  3   -4   0   0    0   16   0    2    0   0   0   -5  -3  -4   0   0 ⎥\n",
       "⎢                                                                            ⎥\n",
       "⎢-4  -3  2    0   -4  3   -10  0   32    0   -10  0   -4  3   2    0   -4  -3⎥\n",
       "⎢                                                                            ⎥\n",
       "⎢-3  -4  0   -10  3   -4   0   2    0   32    0   2   3   -4  0   -10  -3  -4⎥\n",
       "⎢                                                                            ⎥\n",
       "⎢0   0   -4  -3   1   0    0   0   -10   0   16   0   0   0   -4   3   1   0 ⎥\n",
       "⎢                                                                            ⎥\n",
       "⎢0   0   -3  -4   0   -5   0   0    0    2    0   16  0   0   3   -4   0   -5⎥\n",
       "⎢                                                                            ⎥\n",
       "⎢0   0   0    0   0   0    1   0   -4    3    0   0   8   -3  -5   0   0   0 ⎥\n",
       "⎢                                                                            ⎥\n",
       "⎢0   0   0    0   0   0    0   -5   3   -4    0   0   -3  8   0    1   0   0 ⎥\n",
       "⎢                                                                            ⎥\n",
       "⎢0   0   0    0   0   0   -4   -3   2    0   -4   3   -5  0   16   0   -5  0 ⎥\n",
       "⎢                                                                            ⎥\n",
       "⎢0   0   0    0   0   0   -3   -4   0   -10   3   -4  0   1   0   16   0   1 ⎥\n",
       "⎢                                                                            ⎥\n",
       "⎢0   0   0    0   0   0    0   0   -4   -3    1   0   0   0   -5   0   8   3 ⎥\n",
       "⎢                                                                            ⎥\n",
       "⎣0   0   0    0   0   0    0   0   -3   -4    0   -5  0   0   0    1   3   8 ⎦"
      ]
     },
     "execution_count": 29,
     "metadata": {},
     "output_type": "execute_result"
    }
   ],
   "source": [
    "stiff, _ = assembler(coords, elems, mat_props)"
   ]
  },
  {
   "cell_type": "code",
   "execution_count": 28,
   "metadata": {
    "collapsed": true
   },
   "outputs": [],
   "source": [
    "stiff_exact = Matrix([\n",
    "    [8, 3, -5, 0, 0, 0, 1, 0, -4, -3, 0, 0, 0, 0, 0, 0, 0, 0], \n",
    "    [3, 8, 0, 1, 0, 0, 0, -5, -3, -4, 0, 0, 0, 0, 0, 0, 0, 0], \n",
    "    [-5, 0, 16, 0, -5, 0, -4, 3, 2, 0, -4, -3, 0, 0, 0, 0, 0, 0], \n",
    "    [0, 1, 0, 16, 0, 1, 3, -4, 0, -10, -3, -4, 0, 0, 0, 0, 0, 0], \n",
    "    [0, 0, -5, 0, 8, -3, 0, 0, -4, 3, 1, 0, 0, 0, 0, 0, 0, 0], \n",
    "    [0, 0, 0, 1, -3, 8, 0, 0, 3, -4, 0, -5, 0, 0, 0, 0, 0, 0], \n",
    "    [1, 0, -4, 3, 0, 0, 16, 0, -10, 0, 0, 0, 1, 0, -4, -3, 0, 0], \n",
    "    [0, -5, 3, -4, 0, 0, 0, 16, 0, 2, 0, 0, 0, -5, -3, -4, 0, 0], \n",
    "    [-4, -3, 2, 0, -4, 3, -10, 0, 32, 0, -10, 0, -4, 3, 2, 0, -4, -3], \n",
    "    [-3, -4, 0, -10, 3, -4, 0, 2, 0, 32, 0, 2, 3, -4, 0, -10, -3, -4], \n",
    "    [0, 0, -4, -3, 1, 0, 0, 0, -10, 0, 16, 0, 0, 0, -4, 3, 1, 0], \n",
    "    [0, 0, -3, -4, 0, -5, 0, 0, 0, 2, 0, 16, 0, 0, 3, -4, 0, -5], \n",
    "    [0, 0, 0, 0, 0, 0, 1, 0, -4, 3, 0, 0, 8, -3, -5, 0, 0, 0], \n",
    "    [0, 0, 0, 0, 0, 0, 0, -5, 3, -4, 0, 0, -3, 8, 0, 1, 0, 0], \n",
    "    [0, 0, 0, 0, 0, 0, -4, -3, 2, 0, -4, 3, -5, 0, 16, 0, -5, 0], \n",
    "    [0, 0, 0, 0, 0, 0, -3, -4, 0, -10, 3, -4, 0, 1, 0, 16, 0, 1], \n",
    "    [0, 0, 0, 0, 0, 0, 0, 0, -4, -3, 1, 0, 0, 0, -5, 0, 8, 3], \n",
    "    [0, 0, 0, 0, 0, 0, 0, 0, -3, -4, 0, -5, 0, 0, 0, 1, 3, 8]])"
   ]
  },
  {
   "cell_type": "code",
   "execution_count": 30,
   "metadata": {
    "collapsed": false
   },
   "outputs": [
    {
     "data": {
      "image/png": "[encoded data removed]",
      "text/latex": [
       "$$\\left[\\begin{array}{cccccccccccccccccc}0 & 0 & 0 & 0 & 0 & 0 & 0 & 0 & 0 & 0 & 0 & 0 & 0 & 0 & 0 & 0 & 0 & 0\\\\0 & 0 & 0 & 0 & 0 & 0 & 0 & 0 & 0 & 0 & 0 & 0 & 0 & 0 & 0 & 0 & 0 & 0\\\\0 & 0 & 0 & 0 & 0 & 0 & 0 & 0 & 0 & 0 & 0 & 0 & 0 & 0 & 0 & 0 & 0 & 0\\\\0 & 0 & 0 & 0 & 0 & 0 & 0 & 0 & 0 & 0 & 0 & 0 & 0 & 0 & 0 & 0 & 0 & 0\\\\0 & 0 & 0 & 0 & 0 & 0 & 0 & 0 & 0 & 0 & 0 & 0 & 0 & 0 & 0 & 0 & 0 & 0\\\\0 & 0 & 0 & 0 & 0 & 0 & 0 & 0 & 0 & 0 & 0 & 0 & 0 & 0 & 0 & 0 & 0 & 0\\\\0 & 0 & 0 & 0 & 0 & 0 & 0 & 0 & 0 & 0 & 0 & 0 & 0 & 0 & 0 & 0 & 0 & 0\\\\0 & 0 & 0 & 0 & 0 & 0 & 0 & 0 & 0 & 0 & 0 & 0 & 0 & 0 & 0 & 0 & 0 & 0\\\\0 & 0 & 0 & 0 & 0 & 0 & 0 & 0 & 0 & 0 & 0 & 0 & 0 & 0 & 0 & 0 & 0 & 0\\\\0 & 0 & 0 & 0 & 0 & 0 & 0 & 0 & 0 & 0 & 0 & 0 & 0 & 0 & 0 & 0 & 0 & 0\\\\0 & 0 & 0 & 0 & 0 & 0 & 0 & 0 & 0 & 0 & 0 & 0 & 0 & 0 & 0 & 0 & 0 & 0\\\\0 & 0 & 0 & 0 & 0 & 0 & 0 & 0 & 0 & 0 & 0 & 0 & 0 & 0 & 0 & 0 & 0 & 0\\\\0 & 0 & 0 & 0 & 0 & 0 & 0 & 0 & 0 & 0 & 0 & 0 & 0 & 0 & 0 & 0 & 0 & 0\\\\0 & 0 & 0 & 0 & 0 & 0 & 0 & 0 & 0 & 0 & 0 & 0 & 0 & 0 & 0 & 0 & 0 & 0\\\\0 & 0 & 0 & 0 & 0 & 0 & 0 & 0 & 0 & 0 & 0 & 0 & 0 & 0 & 0 & 0 & 0 & 0\\\\0 & 0 & 0 & 0 & 0 & 0 & 0 & 0 & 0 & 0 & 0 & 0 & 0 & 0 & 0 & 0 & 0 & 0\\\\0 & 0 & 0 & 0 & 0 & 0 & 0 & 0 & 0 & 0 & 0 & 0 & 0 & 0 & 0 & 0 & 0 & 0\\\\0 & 0 & 0 & 0 & 0 & 0 & 0 & 0 & 0 & 0 & 0 & 0 & 0 & 0 & 0 & 0 & 0 & 0\\end{array}\\right]$$"
      ],
      "text/plain": [
       "⎡0  0  0  0  0  0  0  0  0  0  0  0  0  0  0  0  0  0⎤\n",
       "⎢                                                    ⎥\n",
       "⎢0  0  0  0  0  0  0  0  0  0  0  0  0  0  0  0  0  0⎥\n",
       "⎢                                                    ⎥\n",
       "⎢0  0  0  0  0  0  0  0  0  0  0  0  0  0  0  0  0  0⎥\n",
       "⎢                                                    ⎥\n",
       "⎢0  0  0  0  0  0  0  0  0  0  0  0  0  0  0  0  0  0⎥\n",
       "⎢                                                    ⎥\n",
       "⎢0  0  0  0  0  0  0  0  0  0  0  0  0  0  0  0  0  0⎥\n",
       "⎢                                                    ⎥\n",
       "⎢0  0  0  0  0  0  0  0  0  0  0  0  0  0  0  0  0  0⎥\n",
       "⎢                                                    ⎥\n",
       "⎢0  0  0  0  0  0  0  0  0  0  0  0  0  0  0  0  0  0⎥\n",
       "⎢                                                    ⎥\n",
       "⎢0  0  0  0  0  0  0  0  0  0  0  0  0  0  0  0  0  0⎥\n",
       "⎢                                                    ⎥\n",
       "⎢0  0  0  0  0  0  0  0  0  0  0  0  0  0  0  0  0  0⎥\n",
       "⎢                                                    ⎥\n",
       "⎢0  0  0  0  0  0  0  0  0  0  0  0  0  0  0  0  0  0⎥\n",
       "⎢                                                    ⎥\n",
       "⎢0  0  0  0  0  0  0  0  0  0  0  0  0  0  0  0  0  0⎥\n",
       "⎢                                                    ⎥\n",
       "⎢0  0  0  0  0  0  0  0  0  0  0  0  0  0  0  0  0  0⎥\n",
       "⎢                                                    ⎥\n",
       "⎢0  0  0  0  0  0  0  0  0  0  0  0  0  0  0  0  0  0⎥\n",
       "⎢                                                    ⎥\n",
       "⎢0  0  0  0  0  0  0  0  0  0  0  0  0  0  0  0  0  0⎥\n",
       "⎢                                                    ⎥\n",
       "⎢0  0  0  0  0  0  0  0  0  0  0  0  0  0  0  0  0  0⎥\n",
       "⎢                                                    ⎥\n",
       "⎢0  0  0  0  0  0  0  0  0  0  0  0  0  0  0  0  0  0⎥\n",
       "⎢                                                    ⎥\n",
       "⎢0  0  0  0  0  0  0  0  0  0  0  0  0  0  0  0  0  0⎥\n",
       "⎢                                                    ⎥\n",
       "⎣0  0  0  0  0  0  0  0  0  0  0  0  0  0  0  0  0  0⎦"
      ]
     },
     "execution_count": 30,
     "metadata": {},
     "output_type": "execute_result"
    }
   ],
   "source": [
    "stiff_exact - stiff"
   ]
  },
  {
   "cell_type": "code",
   "execution_count": null,
   "metadata": {
    "collapsed": true
   },
   "outputs": [],
   "source": []
  },
  {
   "cell_type": "code",
   "execution_count": null,
   "metadata": {
    "collapsed": true
   },
   "outputs": [],
   "source": []
  },
  {
   "cell_type": "code",
   "execution_count": 31,
   "metadata": {
    "collapsed": false
   },
   "outputs": [
    {
     "data": {
      "text/html": [
       "\n",
       "<link href='http://fonts.googleapis.com/css?family=Fenix' rel='stylesheet' type='text/css'>\n",
       "<link href='http://fonts.googleapis.com/css?family=Alegreya+Sans:100,300,400,500,700,800,900,100italic,300italic,400italic,500italic,700italic,800italic,900italic' rel='stylesheet' type='text/css'>\n",
       "<link href='http://fonts.googleapis.com/css?family=Source+Code+Pro:300,400' rel='stylesheet' type='text/css'>\n",
       "<style>\n",
       "/* Based on Lorena Barba template available at: https://github.com/barbagroup/AeroPython/blob/master/styles/custom.css*/\n",
       "@font-face {\n",
       "font-family: \"Computer Modern\";\n",
       "src: url('http://mirrors.ctan.org/fonts/cm-unicode/fonts/otf/cmunss.otf');\n",
       "}\n",
       "div.cell{\n",
       "width:800px;\n",
       "margin-left:16% !important;\n",
       "margin-right:auto;\n",
       "}\n",
       "h1 {\n",
       "font-family: 'Alegreya Sans', sans-serif;\n",
       "}\n",
       "h2 {\n",
       "font-family: 'Fenix', serif;\n",
       "}\n",
       "h3{\n",
       "font-family: 'Fenix', serif;\n",
       "margin-top:12px;\n",
       "margin-bottom: 3px;\n",
       "}\n",
       "h4{\n",
       "font-family: 'Fenix', serif;\n",
       "}\n",
       "h5 {\n",
       "font-family: 'Alegreya Sans', sans-serif;\n",
       "}\t\n",
       "div.text_cell_render{\n",
       "font-family: 'Alegreya Sans',Computer Modern, \"Helvetica Neue\", Arial, Helvetica, Geneva, sans-serif;\n",
       "line-height: 135%;\n",
       "font-size: 120%;\n",
       "width:600px;\n",
       "margin-left:auto;\n",
       "margin-right:auto;\n",
       "}\n",
       ".CodeMirror{\n",
       "font-family: \"Source Code Pro\";\n",
       "font-size: 90%;\n",
       "}\n",
       "/* .prompt{\n",
       "display: None;\n",
       "}*/\n",
       ".text_cell_render h1 {\n",
       "font-weight: 200;\n",
       "font-size: 50pt;\n",
       "line-height: 100%;\n",
       "color:#CD2305;\n",
       "margin-bottom: 0.5em;\n",
       "margin-top: 0.5em;\n",
       "display: block;\n",
       "}\t\n",
       ".text_cell_render h5 {\n",
       "font-weight: 300;\n",
       "font-size: 16pt;\n",
       "color: #CD2305;\n",
       "font-style: italic;\n",
       "margin-bottom: .5em;\n",
       "margin-top: 0.5em;\n",
       "display: block;\n",
       "}\n",
       ".warning{\n",
       "color: rgb( 240, 20, 20 )\n",
       "}\n",
       "</style>\n",
       "<script>\n",
       "MathJax.Hub.Config({\n",
       "TeX: {\n",
       "extensions: [\"AMSmath.js\"]\n",
       "},\n",
       "tex2jax: {\n",
       "inlineMath: [ ['$','$'], [\"\\\\(\",\"\\\\)\"] ],\n",
       "displayMath: [ ['$$','$$'], [\"\\\\[\",\"\\\\]\"] ]\n",
       "},\n",
       "displayAlign: 'center', // Change this to 'center' to center equations.\n",
       "\"HTML-CSS\": {\n",
       "styles: {'.MathJax_Display': {\"margin\": 4}}\n",
       "}\n",
       "});\n",
       "</script>\n",
       "\n"
      ],
      "text/plain": [
       "<IPython.core.display.HTML object>"
      ]
     },
     "execution_count": 31,
     "metadata": {},
     "output_type": "execute_result"
    }
   ],
   "source": [
    "from IPython.core.display import HTML\n",
    "def css_styling():\n",
    "    styles = open('./styles/custom_barba.css', 'r').read()\n",
    "    return HTML(styles)\n",
    "css_styling()"
   ]
  },
  {
   "cell_type": "code",
   "execution_count": null,
   "metadata": {
    "collapsed": true
   },
   "outputs": [],
   "source": []
  }
 ],
 "metadata": {
  "kernelspec": {
   "display_name": "Python 3",
   "language": "python",
   "name": "python3"
  }
 },
 "nbformat": 4,
 "nbformat_minor": 2
}
