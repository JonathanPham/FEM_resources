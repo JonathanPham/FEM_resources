{
 "cells": [
  {
   "cell_type": "markdown",
   "metadata": {},
   "source": [
    "# Ritz method for a beam\n",
    "\n",
    "**November, 2018**\n",
    "\n",
    "We want to find a Ritz approximation of vibration frequencies/modes of a cantilever beam.\n",
    "This is described by the following eigenvalue problem.\n",
    "\n",
    "$$\n",
    "\\frac{\\mathrm{d}^4w}{\\mathrm{d}x^4} + \\beta^4 w\\, ,\\quad\n",
    "0 < x < L,\\quad EI>0\\, ,\n",
    "$$\n",
    "\n",
    "with\n",
    "\n",
    "$$\n",
    "w(0) = w'(0) = 0,\\quad\n",
    "\\left(\\frac{\\mathrm{d}^2w}{\\mathrm{d}x^2}\\right)_{x=L} = 0,\\quad\n",
    "\\left(\\frac{\\mathrm{d}^3 w}{\\mathrm{d}x^3}\\right)_{x=L} = 0\\, ,\n",
    "$$\n",
    "\n",
    "and\n",
    "\n",
    "$$\\beta \\equiv \\left(\\frac{\\mu \\omega^2}{EI}\\right)^{1/4}\\, .$$"
   ]
  },
  {
   "cell_type": "code",
   "execution_count": 1,
   "metadata": {},
   "outputs": [],
   "source": [
    "import numpy as np\n",
    "import matplotlib.pyplot as plt\n",
    "from sympy import *"
   ]
  },
  {
   "cell_type": "code",
   "execution_count": 2,
   "metadata": {},
   "outputs": [],
   "source": [
    "%matplotlib notebook\n",
    "init_printing()\n",
    "\n",
    "# Graphics setup\n",
    "gray = '#757575'\n",
    "plt.rcParams[\"mathtext.fontset\"] = \"cm\"\n",
    "plt.rcParams[\"text.color\"] = gray\n",
    "plt.rcParams[\"font.size\"] = 12\n",
    "plt.rcParams[\"xtick.color\"] = gray\n",
    "plt.rcParams[\"ytick.color\"] = gray\n",
    "plt.rcParams[\"axes.labelcolor\"] = gray\n",
    "plt.rcParams[\"axes.edgecolor\"] = gray\n",
    "plt.rcParams[\"axes.spines.right\"] = False\n",
    "plt.rcParams[\"axes.spines.top\"] = False\n",
    "plt.rcParams[\"figure.figsize\"] = 4, 3"
   ]
  },
  {
   "cell_type": "markdown",
   "metadata": {},
   "source": [
    "The exact solution for this problem is\n",
    "\n",
    "$$w_n(x) = A_1\\left[(\\cosh\\beta_n x - \\cos\\beta_n x) +\n",
    "\\frac{\\cos\\beta_n L + \\cosh\\beta_n L}{\\sin\\beta_n L + \\sinh\\beta_n L}(\\sin\\beta_n x - \\sinh\\beta_n x)\\right]\\, ,$$\n",
    "\n",
    "where $\\beta_n$ is the $n$th root of $\\cosh(\\beta_n L)\\cos(\\beta_n L)  + 1$."
   ]
  },
  {
   "cell_type": "code",
   "execution_count": 3,
   "metadata": {},
   "outputs": [],
   "source": [
    "x = symbols('x')\n",
    "beta, L = symbols(\"beta L\")\n",
    "val1 = 1.8750909912\n",
    "val2 = 4.6941049111"
   ]
  },
  {
   "cell_type": "code",
   "execution_count": 4,
   "metadata": {},
   "outputs": [],
   "source": [
    "def plot_expr(expr, x, rango=(0, 1), ax=None, linestyle=\"solid\"):\n",
    "    \"\"\"Plot SymPy expressions of a single variable\"\"\"\n",
    "    expr_num = lambdify(x, expr, \"numpy\")\n",
    "    x0 = rango[0]\n",
    "    x1 = rango[1]\n",
    "    x_num = np.linspace(0, 1, 101)\n",
    "    if ax is None:\n",
    "        plt.figure()\n",
    "        ax = plt.gca()\n",
    "    ax.plot(x_num, expr_num(x_num), linestyle=linestyle)"
   ]
  },
  {
   "cell_type": "markdown",
   "metadata": {},
   "source": [
    "## Conventional formulation\n",
    "\n",
    "The quadratic functional for this problem is\n",
    "\n",
    "$$J[u] = \\int\\limits_0^L \\left[\\left(\\frac{\\mathrm{d}^2 w}{\\mathrm{d}x^2}\\right)^2 + \\beta^4 w^2\\right]\\mathrm{d}x\\, ,$$\n",
    "\n",
    "and the weak problem $B(v, w) = \\beta^2 A(v, w)$, with\n",
    "\n",
    "$$\n",
    "B(v, u) = \\int\\limits_0^L \\frac{\\mathrm{d}^2 v}{\\mathrm{d}x^2}\\frac{\\mathrm{d}^2 u}{\\mathrm{d}x^2}\\mathrm{d}x\\, ,\\quad\n",
    "A(v, u) = \\int\\limits_0^L  vw\\mathrm{d}x\\, .\n",
    "$$"
   ]
  },
  {
   "cell_type": "code",
   "execution_count": 5,
   "metadata": {},
   "outputs": [],
   "source": [
    "def quad_fun(x, w, L):\n",
    "    F1 = diff(w, x, 2)**2\n",
    "    F2 = w**2\n",
    "    U = integrate(F1, (x, 0, L))\n",
    "    T = integrate(F2, (x, 0, L))\n",
    "    return U, T\n",
    "    "
   ]
  },
  {
   "cell_type": "code",
   "execution_count": 6,
   "metadata": {},
   "outputs": [],
   "source": [
    "def ritz_conventional(x, L, nterms):\n",
    "    a = symbols(\"a0:%i\"%(nterms))\n",
    "    w = sum(a[k]*x**(k + 2) for k in range(nterms))\n",
    "    U, T = quad_fun(x, w, L)\n",
    "    K = Matrix(nterms, nterms, lambda i, j: U.diff(a[i], a[j]))\n",
    "    M = Matrix(nterms, nterms, lambda i, j: T.diff(a[i], a[j]))\n",
    "    return K, M"
   ]
  },
  {
   "cell_type": "code",
   "execution_count": 7,
   "metadata": {},
   "outputs": [],
   "source": [
    "K, M = ritz_conventional(x, 1, 2)\n"
   ]
  },
  {
   "cell_type": "code",
   "execution_count": 8,
   "metadata": {},
   "outputs": [
    {
     "data": {
      "image/png": "[encoded data removed]",
      "text/latex": [
       "$$\\left [ - 96 \\sqrt{39} + 612, \\quad 96 \\sqrt{39} + 612\\right ]$$"
      ],
      "text/plain": [
       "[-96⋅√39 + 612, 96⋅√39 + 612]"
      ]
     },
     "execution_count": 8,
     "metadata": {},
     "output_type": "execute_result"
    }
   ],
   "source": [
    "Kaux = M.inv() * K\n",
    "vals = list(Kaux.eigenvals())\n",
    "vals"
   ]
  },
  {
   "cell_type": "code",
   "execution_count": 9,
   "metadata": {},
   "outputs": [
    {
     "data": {
      "image/png": "[encoded data removed]",
      "text/latex": [
       "$$\\left [ 1.87955620901232, \\quad 5.89973669821022\\right ]$$"
      ],
      "text/plain": [
       "[1.87955620901232, 5.89973669821022]"
      ]
     },
     "execution_count": 9,
     "metadata": {},
     "output_type": "execute_result"
    }
   ],
   "source": [
    "nvals = [N(val**0.25) for val in vals]\n",
    "nvals"
   ]
  },
  {
   "cell_type": "markdown",
   "metadata": {},
   "source": [
    "## Lagrange multiplier formulation\n",
    "\n",
    "We can write the problem as minimizing the functional\n",
    "\n",
    "$$J(\\psi, w) = \\int\\limits_0^L\\left[\\left(\\frac{\\mathrm{d} \\psi}{\\mathrm{d}x}\\right)^2 + \\beta^4\n",
    "w^2\\right]\\mathrm{d}x\\, ,$$\n",
    "\n",
    "subject to\n",
    "\n",
    "$$G(\\psi, w) \\equiv \\psi + \\frac{\\mathrm{d}w}{\\mathrm{d}x} = 0\\, .$$\n",
    "\n",
    "The Lagrangian is given by\n",
    "\n",
    "$$L(\\psi, w, \\lambda) = \\int\\limits_0^L\\left[\\left(\\frac{\\mathrm{d} \\psi}{\\mathrm{d}x}\\right)^2 + \\beta^4 w^2\\right]\\mathrm{d}x + \\int\\limits_0^L \\lambda\\left(\\psi + \\frac{\\mathrm{d}w}{\\mathrm{d}x}\\right)\\mathrm{d}x\\, , $$\n",
    "\n",
    "where $\\lambda$ is the Lagrange multiplier, which in this case represents the shear force."
   ]
  },
  {
   "cell_type": "code",
   "execution_count": 10,
   "metadata": {},
   "outputs": [],
   "source": [
    "def lagran(x, w, psi, lamda, L):\n",
    "    F1 = diff(psi, x)**2 + lamda*(psi + diff(w, x))\n",
    "    F2 = w**2\n",
    "    U = integrate(F1, (x, 0, L))\n",
    "    T = integrate(F2, (x, 0, L))\n",
    "    return U, T\n",
    "    "
   ]
  },
  {
   "cell_type": "code",
   "execution_count": 11,
   "metadata": {},
   "outputs": [],
   "source": [
    "def ritz_multiplier(x, L, nterms):\n",
    "    a = symbols(\"a0:%i\"%(nterms))\n",
    "    b = symbols(\"b0:%i\"%(nterms))\n",
    "    c = symbols(\"c0:%i\"%(nterms))\n",
    "    var = a + b + c\n",
    "    w = sum(a[k]*x**(k + 1) for k in range(nterms))\n",
    "    psi = sum(b[k]*x**(k + 1) for k in range(nterms))\n",
    "    lamda = sum(c[k]*x**k for k in range(nterms))\n",
    "    U, T = lagran(x, w, psi, lamda, L)\n",
    "    K = Matrix(3*nterms, 3*nterms, lambda i, j: U.diff(var[i], var[j]))\n",
    "    M = Matrix(3*nterms, 3*nterms, lambda i, j: T.diff(var[i], var[j]))\n",
    "    return K, M"
   ]
  },
  {
   "cell_type": "code",
   "execution_count": 12,
   "metadata": {
    "scrolled": true
   },
   "outputs": [],
   "source": [
    "K, M = ritz_multiplier(x, 1, 2)"
   ]
  },
  {
   "cell_type": "code",
   "execution_count": 13,
   "metadata": {},
   "outputs": [
    {
     "data": {
      "text/latex": [
       "$$\\left[\\begin{matrix}0 & 0 & 0 & 0 & 1 & \\frac{1}{2}\\\\0 & 0 & 0 & 0 & 1 & \\frac{2}{3}\\\\0 & 0 & 2 & 2 & \\frac{1}{2} & \\frac{1}{3}\\\\0 & 0 & 2 & \\frac{8}{3} & \\frac{1}{3} & \\frac{1}{4}\\\\1 & 1 & \\frac{1}{2} & \\frac{1}{3} & 0 & 0\\\\\\frac{1}{2} & \\frac{2}{3} & \\frac{1}{3} & \\frac{1}{4} & 0 & 0\\end{matrix}\\right]$$"
      ],
      "text/plain": [
       "⎡ 0    0    0    0    1   1/2⎤\n",
       "⎢                            ⎥\n",
       "⎢ 0    0    0    0    1   2/3⎥\n",
       "⎢                            ⎥\n",
       "⎢ 0    0    2    2   1/2  1/3⎥\n",
       "⎢                            ⎥\n",
       "⎢ 0    0    2   8/3  1/3  1/4⎥\n",
       "⎢                            ⎥\n",
       "⎢ 1    1   1/2  1/3   0    0 ⎥\n",
       "⎢                            ⎥\n",
       "⎣1/2  2/3  1/3  1/4   0    0 ⎦"
      ]
     },
     "execution_count": 13,
     "metadata": {},
     "output_type": "execute_result"
    }
   ],
   "source": [
    "K"
   ]
  },
  {
   "cell_type": "code",
   "execution_count": 14,
   "metadata": {},
   "outputs": [
    {
     "data": {
      "text/latex": [
       "$$\\left[\\begin{matrix}\\frac{2}{3} & \\frac{1}{2} & 0 & 0 & 0 & 0\\\\\\frac{1}{2} & \\frac{2}{5} & 0 & 0 & 0 & 0\\\\0 & 0 & 0 & 0 & 0 & 0\\\\0 & 0 & 0 & 0 & 0 & 0\\\\0 & 0 & 0 & 0 & 0 & 0\\\\0 & 0 & 0 & 0 & 0 & 0\\end{matrix}\\right]$$"
      ],
      "text/plain": [
       "⎡2/3  1/2  0  0  0  0⎤\n",
       "⎢                    ⎥\n",
       "⎢1/2  2/5  0  0  0  0⎥\n",
       "⎢                    ⎥\n",
       "⎢ 0    0   0  0  0  0⎥\n",
       "⎢                    ⎥\n",
       "⎢ 0    0   0  0  0  0⎥\n",
       "⎢                    ⎥\n",
       "⎢ 0    0   0  0  0  0⎥\n",
       "⎢                    ⎥\n",
       "⎣ 0    0   0  0  0  0⎦"
      ]
     },
     "execution_count": 14,
     "metadata": {},
     "output_type": "execute_result"
    }
   ],
   "source": [
    "M"
   ]
  },
  {
   "cell_type": "code",
   "execution_count": 15,
   "metadata": {},
   "outputs": [
    {
     "data": {
      "image/png": "[encoded data removed]",
      "text/latex": [
       "$$\\left [ 5.45110290649819, \\quad 1.90054754682677\\right ]$$"
      ],
      "text/plain": [
       "[5.45110290649819, 1.90054754682677]"
      ]
     },
     "execution_count": 15,
     "metadata": {},
     "output_type": "execute_result"
    }
   ],
   "source": [
    "Maux = K.inv() * M\n",
    "vals = list(Maux.eigenvals())\n",
    "nvals = [N(1/val**0.25) for val in vals if val != 0]\n",
    "nvals"
   ]
  },
  {
   "cell_type": "markdown",
   "metadata": {},
   "source": [
    "# The penalty function formulation\n",
    "\n",
    "The augmented functional for this formulation is given by\n",
    "\n",
    "$$P_K (\\psi, w) = J(\\psi, w) + \\frac{K}{2}\\int\\limits_0^L \\left(\\psi + \\frac{\\mathrm{d}w}{\\mathrm{d}x}\\right)^2\\mathrm{d}x\\, ,$$\n",
    "\n",
    "where $K$ is the penalty parameter.\n"
   ]
  },
  {
   "cell_type": "code",
   "execution_count": 16,
   "metadata": {},
   "outputs": [],
   "source": [
    "def augmented(x, w, psi, K, L):\n",
    "    F1 = diff(psi, x)**2 + S(K)/2*(psi + diff(w, x))**2\n",
    "    F2 = w**2\n",
    "    U = integrate(F1, (x, 0, L))\n",
    "    T = integrate(F2, (x, 0, L))\n",
    "    return U, T"
   ]
  },
  {
   "cell_type": "code",
   "execution_count": 17,
   "metadata": {},
   "outputs": [],
   "source": [
    "def ritz_penalty(x, K, L, nterms):\n",
    "    a = symbols(\"a0:%i\"%(nterms))\n",
    "    b = symbols(\"b0:%i\"%(nterms))\n",
    "    var = a + b\n",
    "    w = sum(a[k]*x**(k + 1) for k in range(nterms))\n",
    "    psi = sum(b[k]*x**(k + 1) for k in range(nterms))\n",
    "    U, T = augmented(x, w, psi, K, L)\n",
    "    K = Matrix(2*nterms, 2*nterms, lambda i, j: U.diff(var[i], var[j]))\n",
    "    M = Matrix(2*nterms, 2*nterms, lambda i, j: T.diff(var[i], var[j]))\n",
    "    return K, M"
   ]
  },
  {
   "cell_type": "code",
   "execution_count": 18,
   "metadata": {},
   "outputs": [],
   "source": [
    "K, M = ritz_penalty(x, 100, 1, 2)"
   ]
  },
  {
   "cell_type": "code",
   "execution_count": 19,
   "metadata": {},
   "outputs": [
    {
     "data": {
      "text/latex": [
       "$$\\left[\\begin{matrix}100 & 100 & 50 & \\frac{100}{3}\\\\100 & \\frac{400}{3} & \\frac{200}{3} & 50\\\\50 & \\frac{200}{3} & \\frac{106}{3} & 27\\\\\\frac{100}{3} & 50 & 27 & \\frac{68}{3}\\end{matrix}\\right]$$"
      ],
      "text/plain": [
       "⎡ 100    100    50    100/3⎤\n",
       "⎢                          ⎥\n",
       "⎢ 100   400/3  200/3   50  ⎥\n",
       "⎢                          ⎥\n",
       "⎢ 50    200/3  106/3   27  ⎥\n",
       "⎢                          ⎥\n",
       "⎣100/3   50     27    68/3 ⎦"
      ]
     },
     "execution_count": 19,
     "metadata": {},
     "output_type": "execute_result"
    }
   ],
   "source": [
    "K"
   ]
  },
  {
   "cell_type": "code",
   "execution_count": 20,
   "metadata": {},
   "outputs": [
    {
     "data": {
      "text/latex": [
       "$$\\left[\\begin{matrix}\\frac{2}{3} & \\frac{1}{2} & 0 & 0\\\\\\frac{1}{2} & \\frac{2}{5} & 0 & 0\\\\0 & 0 & 0 & 0\\\\0 & 0 & 0 & 0\\end{matrix}\\right]$$"
      ],
      "text/plain": [
       "⎡2/3  1/2  0  0⎤\n",
       "⎢              ⎥\n",
       "⎢1/2  2/5  0  0⎥\n",
       "⎢              ⎥\n",
       "⎢ 0    0   0  0⎥\n",
       "⎢              ⎥\n",
       "⎣ 0    0   0  0⎦"
      ]
     },
     "execution_count": 20,
     "metadata": {},
     "output_type": "execute_result"
    }
   ],
   "source": [
    "M"
   ]
  },
  {
   "cell_type": "code",
   "execution_count": 21,
   "metadata": {},
   "outputs": [
    {
     "data": {
      "image/png": "[encoded data removed]",
      "text/latex": [
       "$$\\left [ 4.70025917715053, \\quad 1.93203634906017\\right ]$$"
      ],
      "text/plain": [
       "[4.70025917715053, 1.93203634906017]"
      ]
     },
     "execution_count": 21,
     "metadata": {},
     "output_type": "execute_result"
    }
   ],
   "source": [
    "Maux = K.inv() * M\n",
    "vals = list(Maux.eigenvals())\n",
    "nvals = [re(N(1/val**0.25)) for val in vals if val != 0]\n",
    "nvals"
   ]
  },
  {
   "cell_type": "markdown",
   "metadata": {},
   "source": [
    "## Mixed formulation\n",
    "\n",
    "The mixed formulation involves rewriting a given higher order equation as a pair of lower\n",
    "order equations by introducing secondary dependent variables. The original equation can be\n",
    "decomposed into\n",
    "\n",
    "$$\n",
    "M(x)= \\frac{\\mathrm{d}^2 w}{\\mathrm{d}x^2}\\, ,\\quad\n",
    "\\frac{\\mathrm{d}^2M(x)}{\\mathrm{d}x^2} = -\\beta^4 w\\, ,\\quad 0<x<L\\, .\n",
    "$$\n",
    "\n",
    "The functional in this case is\n",
    "\n",
    "$$\n",
    "I(w, M) = \\int\\limits_0^L\\left(\\frac{\\mathrm{d}w}{\\mathrm{d}x}\\frac{\\mathrm{d}M}{\\mathrm{d}x}\n",
    "+ \\frac{M^2}{2} - \\beta^4 w^2\\right)\\mathrm{d}x\n",
    "$$"
   ]
  },
  {
   "cell_type": "code",
   "execution_count": 22,
   "metadata": {},
   "outputs": [],
   "source": [
    "def mixed_fun(x, w, M, L):\n",
    "    F1 = diff(w, x)*diff(M, x) + M**2/2\n",
    "    F2 = -w**2\n",
    "    U = integrate(F1, (x, 0, L))\n",
    "    T = integrate(F2, (x, 0, L))\n",
    "    return U, T\n",
    "    "
   ]
  },
  {
   "cell_type": "code",
   "execution_count": 23,
   "metadata": {},
   "outputs": [],
   "source": [
    "def ritz_mixed(x, L, nterms):\n",
    "    a = symbols(\"a0:%i\"%(nterms))\n",
    "    b = symbols(\"b0:%i\"%(nterms))\n",
    "    var = a + b\n",
    "    w = sum(a[k]*x**(k + 1) for k in range(nterms))\n",
    "    M = sum(b[k]*(x - L)**(k + 1) for k in range(nterms))\n",
    "    display(w, M)\n",
    "    U, T = mixed_fun(x, w, M, L)\n",
    "    Kmat = Matrix(2*nterms, 2*nterms, lambda i, j: U.diff(var[i], var[j]))\n",
    "    Mmat = Matrix(2*nterms, 2*nterms, lambda i, j: T.diff(var[i], var[j]))\n",
    "    return Kmat, Mmat"
   ]
  },
  {
   "cell_type": "code",
   "execution_count": 24,
   "metadata": {},
   "outputs": [
    {
     "data": {
      "image/png": "[encoded data removed]",
      "text/latex": [
       "$$a_{0} x + a_{1} x^{2}$$"
      ],
      "text/plain": [
       "           2\n",
       "a₀⋅x + a₁⋅x "
      ]
     },
     "metadata": {},
     "output_type": "display_data"
    },
    {
     "data": {
      "image/png": "[encoded data removed]",
      "text/latex": [
       "$$b_{0} \\left(x - 1\\right) + b_{1} \\left(x - 1\\right)^{2}$$"
      ],
      "text/plain": [
       "                       2\n",
       "b₀⋅(x - 1) + b₁⋅(x - 1) "
      ]
     },
     "metadata": {},
     "output_type": "display_data"
    }
   ],
   "source": [
    "K, M = ritz_mixed(x, 1, 2)"
   ]
  },
  {
   "cell_type": "code",
   "execution_count": 25,
   "metadata": {},
   "outputs": [
    {
     "data": {
      "text/latex": [
       "$$\\left[\\begin{matrix}0 & 0 & 1 & -1\\\\0 & 0 & 1 & - \\frac{2}{3}\\\\1 & 1 & \\frac{1}{3} & - \\frac{1}{4}\\\\-1 & - \\frac{2}{3} & - \\frac{1}{4} & \\frac{1}{5}\\end{matrix}\\right]$$"
      ],
      "text/plain": [
       "⎡0    0     1     -1 ⎤\n",
       "⎢                    ⎥\n",
       "⎢0    0     1    -2/3⎥\n",
       "⎢                    ⎥\n",
       "⎢1    1    1/3   -1/4⎥\n",
       "⎢                    ⎥\n",
       "⎣-1  -2/3  -1/4  1/5 ⎦"
      ]
     },
     "execution_count": 25,
     "metadata": {},
     "output_type": "execute_result"
    }
   ],
   "source": [
    "K"
   ]
  },
  {
   "cell_type": "code",
   "execution_count": 26,
   "metadata": {},
   "outputs": [
    {
     "data": {
      "text/latex": [
       "$$\\left[\\begin{matrix}- \\frac{2}{3} & - \\frac{1}{2} & 0 & 0\\\\- \\frac{1}{2} & - \\frac{2}{5} & 0 & 0\\\\0 & 0 & 0 & 0\\\\0 & 0 & 0 & 0\\end{matrix}\\right]$$"
      ],
      "text/plain": [
       "⎡-2/3  -1/2  0  0⎤\n",
       "⎢                ⎥\n",
       "⎢-1/2  -2/5  0  0⎥\n",
       "⎢                ⎥\n",
       "⎢ 0     0    0  0⎥\n",
       "⎢                ⎥\n",
       "⎣ 0     0    0  0⎦"
      ]
     },
     "execution_count": 26,
     "metadata": {},
     "output_type": "execute_result"
    }
   ],
   "source": [
    "M"
   ]
  },
  {
   "cell_type": "code",
   "execution_count": 27,
   "metadata": {},
   "outputs": [
    {
     "data": {
      "image/png": "[encoded data removed]",
      "text/latex": [
       "$$\\left [ 3.96743444704625, \\quad 1.59411715675489\\right ]$$"
      ],
      "text/plain": [
       "[3.96743444704625, 1.59411715675489]"
      ]
     },
     "execution_count": 27,
     "metadata": {},
     "output_type": "execute_result"
    }
   ],
   "source": [
    "Maux = K.inv() * M\n",
    "vals = list(Maux.eigenvals())\n",
    "nvals = [re(N(1/val**0.25)) for val in vals if val != 0]\n",
    "nvals"
   ]
  },
  {
   "cell_type": "code",
   "execution_count": null,
   "metadata": {},
   "outputs": [],
   "source": []
  }
 ],
 "metadata": {
  "kernelspec": {
   "display_name": "Python 3",
   "language": "python",
   "name": "python3"
  },
  "language_info": {
   "codemirror_mode": {
    "name": "ipython",
    "version": 3
   },
   "file_extension": ".py",
   "mimetype": "text/x-python",
   "name": "python",
   "nbconvert_exporter": "python",
   "pygments_lexer": "ipython3",
   "version": "3.6.6"
  }
 },
 "nbformat": 4,
 "nbformat_minor": 2
}
