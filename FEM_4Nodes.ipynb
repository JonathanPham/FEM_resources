{
 "cells": [
  {
   "cell_type": "markdown",
   "metadata": {},
   "source": [
    "# Analytic integration of 4-nodes Finite Element\n",
    "\n"
   ]
  },
  {
   "cell_type": "code",
   "execution_count": 1,
   "metadata": {
    "collapsed": true
   },
   "outputs": [],
   "source": [
    "from __future__ import division\n",
    "from sympy import *"
   ]
  },
  {
   "cell_type": "code",
   "execution_count": 2,
   "metadata": {
    "collapsed": false
   },
   "outputs": [
    {
     "name": "stdout",
     "output_type": "stream",
     "text": [
      "IPython console for SymPy 1.0 (Python 3.6.0-64-bit) (ground types: python)\n",
      "\n",
      "These commands were executed:\n",
      ">>> from __future__ import division\n",
      ">>> from sympy import *\n",
      ">>> x, y, z, t = symbols('x y z t')\n",
      ">>> k, m, n = symbols('k m n', integer=True)\n",
      ">>> f, g, h = symbols('f g h', cls=Function)\n",
      ">>> init_printing()\n",
      "\n",
      "Documentation can be found at http://docs.sympy.org/1.0/\n"
     ]
    }
   ],
   "source": [
    "init_session()"
   ]
  },
  {
   "cell_type": "code",
   "execution_count": 3,
   "metadata": {
    "collapsed": true
   },
   "outputs": [],
   "source": [
    "E, rho = symbols('E rho', positive=True)\n",
    "nu, r, s = symbols('nu r s')"
   ]
  },
  {
   "cell_type": "markdown",
   "metadata": {},
   "source": [
    "Constitutive equations in Voigt's notation"
   ]
  },
  {
   "cell_type": "code",
   "execution_count": 4,
   "metadata": {
    "collapsed": false
   },
   "outputs": [
    {
     "data": {
      "image/png": "[encoded data removed]",
      "text/latex": [
       "$$\\left[\\begin{matrix}- \\nu + 1 & \\nu & 0\\\\\\nu & 1 & 0\\\\0 & 0 & - \\nu + \\frac{1}{2}\\end{matrix}\\right]$$"
      ],
      "text/plain": [
       "⎡-ν + 1  ν     0    ⎤\n",
       "⎢                   ⎥\n",
       "⎢  ν     1     0    ⎥\n",
       "⎢                   ⎥\n",
       "⎣  0     0  -ν + 1/2⎦"
      ]
     },
     "metadata": {},
     "output_type": "display_data"
    }
   ],
   "source": [
    "factor = E/((1+nu)*(1-2*nu))\n",
    "factor = 1\n",
    "C = factor*Matrix([\n",
    "     [1 - nu,nu,0], \n",
    "     [nu,1,0], \n",
    "     [0,0,(1-2*nu)/2]])\n",
    "display(C)"
   ]
  },
  {
   "cell_type": "markdown",
   "metadata": {},
   "source": [
    "Interpolation functions\n",
    "\n",
    "    2-----1\n",
    "    |     |\n",
    "    |     |\n",
    "    3-----4"
   ]
  },
  {
   "cell_type": "code",
   "execution_count": 5,
   "metadata": {
    "collapsed": false
   },
   "outputs": [],
   "source": [
    "N = S(1)/4*Matrix([(1 + r) * (1 + s),\n",
    "                  (1 - r) * (1 + s),\n",
    "                  (1 - r) * (1 - s),\n",
    "                  (1 + r) * (1 - s)])"
   ]
  },
  {
   "cell_type": "markdown",
   "metadata": {},
   "source": [
    "Interpolation matrix"
   ]
  },
  {
   "cell_type": "code",
   "execution_count": 6,
   "metadata": {
    "collapsed": false,
    "scrolled": true
   },
   "outputs": [
    {
     "data": {
      "image/png": "[encoded data removed]",
      "text/latex": [
       "$$\\left[\\begin{matrix}\\frac{1}{4} \\left(r + 1\\right) \\left(s + 1\\right) & 0 & \\frac{1}{4} \\left(- r + 1\\right) \\left(s + 1\\right) & 0 & \\frac{1}{4} \\left(- r + 1\\right) \\left(- s + 1\\right) & 0 & \\frac{1}{4} \\left(r + 1\\right) \\left(- s + 1\\right) & 0\\\\0 & \\frac{1}{4} \\left(r + 1\\right) \\left(s + 1\\right) & 0 & \\frac{1}{4} \\left(- r + 1\\right) \\left(s + 1\\right) & 0 & \\frac{1}{4} \\left(- r + 1\\right) \\left(- s + 1\\right) & 0 & \\frac{1}{4} \\left(r + 1\\right) \\left(- s + 1\\right)\\end{matrix}\\right]$$"
      ],
      "text/plain": [
       "⎡(r + 1)⋅(s + 1)                   (-r + 1)⋅(s + 1)                    (-r + 1\n",
       "⎢───────────────         0         ────────────────         0          ───────\n",
       "⎢       4                                 4                                   \n",
       "⎢                                                                             \n",
       "⎢                 (r + 1)⋅(s + 1)                    (-r + 1)⋅(s + 1)         \n",
       "⎢       0         ───────────────         0          ────────────────         \n",
       "⎣                        4                                  4                 \n",
       "\n",
       ")⋅(-s + 1)                     (r + 1)⋅(-s + 1)                  ⎤\n",
       "──────────          0          ────────────────         0        ⎥\n",
       " 4                                    4                          ⎥\n",
       "                                                                 ⎥\n",
       "            (-r + 1)⋅(-s + 1)                    (r + 1)⋅(-s + 1)⎥\n",
       " 0          ─────────────────         0          ────────────────⎥\n",
       "                    4                                   4        ⎦"
      ]
     },
     "metadata": {},
     "output_type": "display_data"
    }
   ],
   "source": [
    "H = zeros(2, 8)\n",
    "for i in range(4):\n",
    "    H[0, 2*i] = N[i]\n",
    "    H[1, 2*i + 1] = N[i]\n",
    "\n",
    "display(H)"
   ]
  },
  {
   "cell_type": "markdown",
   "metadata": {},
   "source": [
    "Mass matrix"
   ]
  },
  {
   "cell_type": "code",
   "execution_count": 7,
   "metadata": {
    "collapsed": false
   },
   "outputs": [
    {
     "data": {
      "image/png": "[encoded data removed]",
      "text/latex": [
       "$$\\left[\\begin{matrix}\\frac{4 \\rho}{9} & 0 & \\frac{2 \\rho}{9} & 0 & \\frac{\\rho}{9} & 0 & \\frac{2 \\rho}{9} & 0\\\\0 & \\frac{4 \\rho}{9} & 0 & \\frac{2 \\rho}{9} & 0 & \\frac{\\rho}{9} & 0 & \\frac{2 \\rho}{9}\\\\\\frac{2 \\rho}{9} & 0 & \\frac{4 \\rho}{9} & 0 & \\frac{2 \\rho}{9} & 0 & \\frac{\\rho}{9} & 0\\\\0 & \\frac{2 \\rho}{9} & 0 & \\frac{4 \\rho}{9} & 0 & \\frac{2 \\rho}{9} & 0 & \\frac{\\rho}{9}\\\\\\frac{\\rho}{9} & 0 & \\frac{2 \\rho}{9} & 0 & \\frac{4 \\rho}{9} & 0 & \\frac{2 \\rho}{9} & 0\\\\0 & \\frac{\\rho}{9} & 0 & \\frac{2 \\rho}{9} & 0 & \\frac{4 \\rho}{9} & 0 & \\frac{2 \\rho}{9}\\\\\\frac{2 \\rho}{9} & 0 & \\frac{\\rho}{9} & 0 & \\frac{2 \\rho}{9} & 0 & \\frac{4 \\rho}{9} & 0\\\\0 & \\frac{2 \\rho}{9} & 0 & \\frac{\\rho}{9} & 0 & \\frac{2 \\rho}{9} & 0 & \\frac{4 \\rho}{9}\\end{matrix}\\right]$$"
      ],
      "text/plain": [
       "⎡4⋅ρ       2⋅ρ        ρ        2⋅ρ     ⎤\n",
       "⎢───   0   ───   0    ─    0   ───   0 ⎥\n",
       "⎢ 9         9         9         9      ⎥\n",
       "⎢                                      ⎥\n",
       "⎢     4⋅ρ       2⋅ρ        ρ        2⋅ρ⎥\n",
       "⎢ 0   ───   0   ───   0    ─    0   ───⎥\n",
       "⎢      9         9         9         9 ⎥\n",
       "⎢                                      ⎥\n",
       "⎢2⋅ρ       4⋅ρ       2⋅ρ        ρ      ⎥\n",
       "⎢───   0   ───   0   ───   0    ─    0 ⎥\n",
       "⎢ 9         9         9         9      ⎥\n",
       "⎢                                      ⎥\n",
       "⎢     2⋅ρ       4⋅ρ       2⋅ρ        ρ ⎥\n",
       "⎢ 0   ───   0   ───   0   ───   0    ─ ⎥\n",
       "⎢      9         9         9         9 ⎥\n",
       "⎢                                      ⎥\n",
       "⎢ ρ        2⋅ρ       4⋅ρ       2⋅ρ     ⎥\n",
       "⎢ ─    0   ───   0   ───   0   ───   0 ⎥\n",
       "⎢ 9         9         9         9      ⎥\n",
       "⎢                                      ⎥\n",
       "⎢      ρ        2⋅ρ       4⋅ρ       2⋅ρ⎥\n",
       "⎢ 0    ─    0   ───   0   ───   0   ───⎥\n",
       "⎢      9         9         9         9 ⎥\n",
       "⎢                                      ⎥\n",
       "⎢2⋅ρ        ρ        2⋅ρ       4⋅ρ     ⎥\n",
       "⎢───   0    ─    0   ───   0   ───   0 ⎥\n",
       "⎢ 9         9         9         9      ⎥\n",
       "⎢                                      ⎥\n",
       "⎢     2⋅ρ        ρ        2⋅ρ       4⋅ρ⎥\n",
       "⎢ 0   ───   0    ─    0   ───   0   ───⎥\n",
       "⎣      9         9         9         9 ⎦"
      ]
     },
     "metadata": {},
     "output_type": "display_data"
    }
   ],
   "source": [
    "M_inte = H.T * H\n",
    "M = integrate(integrate(rho*M_inte, [r, -1, 1]), [s, -1, 1])\n",
    "display(M)"
   ]
  },
  {
   "cell_type": "markdown",
   "metadata": {},
   "source": [
    "Derivatives interpolation matrix"
   ]
  },
  {
   "cell_type": "code",
   "execution_count": 8,
   "metadata": {
    "collapsed": false
   },
   "outputs": [
    {
     "data": {
      "image/png": "[encoded data removed]",
      "text/latex": [
       "$$\\left[\\begin{matrix}\\frac{s}{4} + \\frac{1}{4} & 0 & - \\frac{s}{4} - \\frac{1}{4} & 0 & \\frac{s}{4} - \\frac{1}{4} & 0 & - \\frac{s}{4} + \\frac{1}{4} & 0\\\\0 & \\frac{r}{4} + \\frac{1}{4} & 0 & - \\frac{r}{4} + \\frac{1}{4} & 0 & \\frac{r}{4} - \\frac{1}{4} & 0 & - \\frac{r}{4} - \\frac{1}{4}\\\\\\frac{r}{4} + \\frac{1}{4} & \\frac{s}{4} + \\frac{1}{4} & - \\frac{r}{4} + \\frac{1}{4} & - \\frac{s}{4} - \\frac{1}{4} & \\frac{r}{4} - \\frac{1}{4} & \\frac{s}{4} - \\frac{1}{4} & - \\frac{r}{4} - \\frac{1}{4} & - \\frac{s}{4} + \\frac{1}{4}\\end{matrix}\\right]$$"
      ],
      "text/plain": [
       "⎡s   1           s   1           s   1           s   1         ⎤\n",
       "⎢─ + ─    0    - ─ - ─     0     ─ - ─    0    - ─ + ─     0   ⎥\n",
       "⎢4   4           4   4           4   4           4   4         ⎥\n",
       "⎢                                                              ⎥\n",
       "⎢       r   1             r   1         r   1             r   1⎥\n",
       "⎢  0    ─ + ─     0     - ─ + ─    0    ─ - ─     0     - ─ - ─⎥\n",
       "⎢       4   4             4   4         4   4             4   4⎥\n",
       "⎢                                                              ⎥\n",
       "⎢r   1  s   1    r   1    s   1  r   1  s   1    r   1    s   1⎥\n",
       "⎢─ + ─  ─ + ─  - ─ + ─  - ─ - ─  ─ - ─  ─ - ─  - ─ - ─  - ─ + ─⎥\n",
       "⎣4   4  4   4    4   4    4   4  4   4  4   4    4   4    4   4⎦"
      ]
     },
     "metadata": {},
     "output_type": "display_data"
    }
   ],
   "source": [
    "B = zeros(3, 8)\n",
    "for i in range(4):\n",
    "    B[0, 2*i] = diff(N[i], r)\n",
    "    B[1, 2*i + 1] = diff(N[i], s)\n",
    "    B[2, 2*i] = diff(N[i], s)\n",
    "    B[2, 2*i + 1] = diff(N[i], r)\n",
    "\n",
    "display(B)"
   ]
  },
  {
   "cell_type": "markdown",
   "metadata": {},
   "source": [
    "Stiffness matrix"
   ]
  },
  {
   "cell_type": "code",
   "execution_count": 9,
   "metadata": {
    "collapsed": false
   },
   "outputs": [],
   "source": [
    "K_inte = B.T * C * B\n",
    "K = simplify(integrate(integrate(K_inte, [r, -1, 1]), [s, -1, 1]))"
   ]
  },
  {
   "cell_type": "code",
   "execution_count": 10,
   "metadata": {
    "collapsed": false
   },
   "outputs": [
    {
     "data": {
      "image/png": "[encoded data removed]",
      "text/latex": [
       "$$\\left[\\begin{matrix}- \\frac{2 \\nu}{3} + \\frac{1}{2} & \\frac{1}{8} & \\frac{\\nu}{6} - \\frac{1}{4} & \\frac{\\nu}{2} - \\frac{1}{8} & \\frac{\\nu}{3} - \\frac{1}{4} & - \\frac{1}{8} & \\frac{\\nu}{6} & - \\frac{\\nu}{2} + \\frac{1}{8}\\\\\\frac{1}{8} & - \\frac{\\nu}{3} + \\frac{1}{2} & - \\frac{\\nu}{2} + \\frac{1}{8} & \\frac{\\nu}{3} & - \\frac{1}{8} & \\frac{\\nu}{6} - \\frac{1}{4} & \\frac{\\nu}{2} - \\frac{1}{8} & - \\frac{\\nu}{6} - \\frac{1}{4}\\\\\\frac{\\nu}{6} - \\frac{1}{4} & - \\frac{\\nu}{2} + \\frac{1}{8} & - \\frac{2 \\nu}{3} + \\frac{1}{2} & - \\frac{1}{8} & \\frac{\\nu}{6} & \\frac{\\nu}{2} - \\frac{1}{8} & \\frac{\\nu}{3} - \\frac{1}{4} & \\frac{1}{8}\\\\\\frac{\\nu}{2} - \\frac{1}{8} & \\frac{\\nu}{3} & - \\frac{1}{8} & - \\frac{\\nu}{3} + \\frac{1}{2} & - \\frac{\\nu}{2} + \\frac{1}{8} & - \\frac{\\nu}{6} - \\frac{1}{4} & \\frac{1}{8} & \\frac{\\nu}{6} - \\frac{1}{4}\\\\\\frac{\\nu}{3} - \\frac{1}{4} & - \\frac{1}{8} & \\frac{\\nu}{6} & - \\frac{\\nu}{2} + \\frac{1}{8} & - \\frac{2 \\nu}{3} + \\frac{1}{2} & \\frac{1}{8} & \\frac{\\nu}{6} - \\frac{1}{4} & \\frac{\\nu}{2} - \\frac{1}{8}\\\\- \\frac{1}{8} & \\frac{\\nu}{6} - \\frac{1}{4} & \\frac{\\nu}{2} - \\frac{1}{8} & - \\frac{\\nu}{6} - \\frac{1}{4} & \\frac{1}{8} & - \\frac{\\nu}{3} + \\frac{1}{2} & - \\frac{\\nu}{2} + \\frac{1}{8} & \\frac{\\nu}{3}\\\\\\frac{\\nu}{6} & \\frac{\\nu}{2} - \\frac{1}{8} & \\frac{\\nu}{3} - \\frac{1}{4} & \\frac{1}{8} & \\frac{\\nu}{6} - \\frac{1}{4} & - \\frac{\\nu}{2} + \\frac{1}{8} & - \\frac{2 \\nu}{3} + \\frac{1}{2} & - \\frac{1}{8}\\\\- \\frac{\\nu}{2} + \\frac{1}{8} & - \\frac{\\nu}{6} - \\frac{1}{4} & \\frac{1}{8} & \\frac{\\nu}{6} - \\frac{1}{4} & \\frac{\\nu}{2} - \\frac{1}{8} & \\frac{\\nu}{3} & - \\frac{1}{8} & - \\frac{\\nu}{3} + \\frac{1}{2}\\end{matrix}\\right]$$"
      ],
      "text/plain": [
       "⎡  2⋅ν   1             ν   1     ν   1     ν   1                 ν        ν   \n",
       "⎢- ─── + ─    1/8      ─ - ─     ─ - ─     ─ - ─     -1/8        ─      - ─ + \n",
       "⎢   3    2             6   4     2   8     3   4                 6        2   \n",
       "⎢                                                                             \n",
       "⎢             ν   1     ν   1      ν                 ν   1     ν   1      ν   \n",
       "⎢   1/8     - ─ + ─   - ─ + ─      ─       -1/8      ─ - ─     ─ - ─    - ─ - \n",
       "⎢             3   2     2   8      3                 6   4     2   8      6   \n",
       "⎢                                                                             \n",
       "⎢  ν   1      ν   1    2⋅ν   1               ν       ν   1     ν   1          \n",
       "⎢  ─ - ─    - ─ + ─  - ─── + ─   -1/8        ─       ─ - ─     ─ - ─      1/8 \n",
       "⎢  6   4      2   8     3    2               6       2   8     3   4          \n",
       "⎢                                                                             \n",
       "⎢  ν   1       ν                  ν   1     ν   1     ν   1              ν   1\n",
       "⎢  ─ - ─       ─       -1/8     - ─ + ─   - ─ + ─   - ─ - ─     1/8      ─ - ─\n",
       "⎢  2   8       3                  3   2     2   8     6   4              6   4\n",
       "⎢                                                                             \n",
       "⎢  ν   1                 ν        ν   1    2⋅ν   1             ν   1     ν   1\n",
       "⎢  ─ - ─     -1/8        ─      - ─ + ─  - ─── + ─    1/8      ─ - ─     ─ - ─\n",
       "⎢  3   4                 6        2   8     3    2             6   4     2   8\n",
       "⎢                                                                             \n",
       "⎢            ν   1     ν   1      ν   1               ν   1     ν   1      ν  \n",
       "⎢  -1/8      ─ - ─     ─ - ─    - ─ - ─     1/8     - ─ + ─   - ─ + ─      ─  \n",
       "⎢            6   4     2   8      6   4               3   2     2   8      3  \n",
       "⎢                                                                             \n",
       "⎢    ν       ν   1     ν   1               ν   1      ν   1    2⋅ν   1        \n",
       "⎢    ─       ─ - ─     ─ - ─      1/8      ─ - ─    - ─ + ─  - ─── + ─   -1/8 \n",
       "⎢    6       2   8     3   4               6   4      2   8     3    2        \n",
       "⎢                                                                             \n",
       "⎢   ν   1     ν   1              ν   1     ν   1       ν                  ν   \n",
       "⎢ - ─ + ─   - ─ - ─     1/8      ─ - ─     ─ - ─       ─       -1/8     - ─ + \n",
       "⎣   2   8     6   4              6   4     2   8       3                  3   \n",
       "\n",
       "1⎤\n",
       "─⎥\n",
       "8⎥\n",
       " ⎥\n",
       "1⎥\n",
       "─⎥\n",
       "4⎥\n",
       " ⎥\n",
       " ⎥\n",
       " ⎥\n",
       " ⎥\n",
       " ⎥\n",
       " ⎥\n",
       " ⎥\n",
       " ⎥\n",
       " ⎥\n",
       " ⎥\n",
       " ⎥\n",
       " ⎥\n",
       " ⎥\n",
       " ⎥\n",
       " ⎥\n",
       " ⎥\n",
       " ⎥\n",
       " ⎥\n",
       " ⎥\n",
       " ⎥\n",
       " ⎥\n",
       "1⎥\n",
       "─⎥\n",
       "2⎦"
      ]
     },
     "metadata": {},
     "output_type": "display_data"
    }
   ],
   "source": [
    "display(K)"
   ]
  },
  {
   "cell_type": "markdown",
   "metadata": {},
   "source": [
    "## Gauss integration"
   ]
  },
  {
   "cell_type": "code",
   "execution_count": 11,
   "metadata": {
    "collapsed": true
   },
   "outputs": [],
   "source": [
    "wts = [2, [1,1], [S(5)/9, S(8)/9, S(5)/9], \n",
    "        [(18+sqrt(30))/36,(18+sqrt(30))/36, (18-sqrt(30))/36, (18-sqrt(30))/36]];\n",
    "pts = [0, [-sqrt(S(1)/3), sqrt(S(1)/3)], [-sqrt(S(3)/5), 0, sqrt(S(3)/5)],\n",
    "[-sqrt(S(3)/7 - S(2)/7*sqrt((6)/5)), sqrt(S(3)/7 - S(2)/7*sqrt(S(6)/5)),\n",
    "-sqrt(S(3)/7 + S(2)/7*sqrt(S(6)/5)), sqrt(S(3)/7 + S(2)/7*sqrt(S(6)/5))]]"
   ]
  },
  {
   "cell_type": "code",
   "execution_count": 12,
   "metadata": {
    "collapsed": false
   },
   "outputs": [
    {
     "data": {
      "image/png": "[encoded data removed]",
      "text/latex": [
       "$$\\left[\\begin{matrix}- \\frac{\\nu}{4} + \\frac{3}{16} & \\frac{1}{16} & - \\frac{1}{16} & \\frac{\\nu}{4} - \\frac{1}{16} & \\frac{\\nu}{4} - \\frac{3}{16} & - \\frac{1}{16} & \\frac{1}{16} & - \\frac{\\nu}{4} + \\frac{1}{16}\\\\\\frac{1}{16} & - \\frac{\\nu}{8} + \\frac{3}{16} & - \\frac{\\nu}{4} + \\frac{1}{16} & \\frac{\\nu}{8} + \\frac{1}{16} & - \\frac{1}{16} & \\frac{\\nu}{8} - \\frac{3}{16} & \\frac{\\nu}{4} - \\frac{1}{16} & - \\frac{\\nu}{8} - \\frac{1}{16}\\\\- \\frac{1}{16} & - \\frac{\\nu}{4} + \\frac{1}{16} & - \\frac{\\nu}{4} + \\frac{3}{16} & - \\frac{1}{16} & \\frac{1}{16} & \\frac{\\nu}{4} - \\frac{1}{16} & \\frac{\\nu}{4} - \\frac{3}{16} & \\frac{1}{16}\\\\\\frac{\\nu}{4} - \\frac{1}{16} & \\frac{\\nu}{8} + \\frac{1}{16} & - \\frac{1}{16} & - \\frac{\\nu}{8} + \\frac{3}{16} & - \\frac{\\nu}{4} + \\frac{1}{16} & - \\frac{\\nu}{8} - \\frac{1}{16} & \\frac{1}{16} & \\frac{\\nu}{8} - \\frac{3}{16}\\\\\\frac{\\nu}{4} - \\frac{3}{16} & - \\frac{1}{16} & \\frac{1}{16} & - \\frac{\\nu}{4} + \\frac{1}{16} & - \\frac{\\nu}{4} + \\frac{3}{16} & \\frac{1}{16} & - \\frac{1}{16} & \\frac{\\nu}{4} - \\frac{1}{16}\\\\- \\frac{1}{16} & \\frac{\\nu}{8} - \\frac{3}{16} & \\frac{\\nu}{4} - \\frac{1}{16} & - \\frac{\\nu}{8} - \\frac{1}{16} & \\frac{1}{16} & - \\frac{\\nu}{8} + \\frac{3}{16} & - \\frac{\\nu}{4} + \\frac{1}{16} & \\frac{\\nu}{8} + \\frac{1}{16}\\\\\\frac{1}{16} & \\frac{\\nu}{4} - \\frac{1}{16} & \\frac{\\nu}{4} - \\frac{3}{16} & \\frac{1}{16} & - \\frac{1}{16} & - \\frac{\\nu}{4} + \\frac{1}{16} & - \\frac{\\nu}{4} + \\frac{3}{16} & - \\frac{1}{16}\\\\- \\frac{\\nu}{4} + \\frac{1}{16} & - \\frac{\\nu}{8} - \\frac{1}{16} & \\frac{1}{16} & \\frac{\\nu}{8} - \\frac{3}{16} & \\frac{\\nu}{4} - \\frac{1}{16} & \\frac{\\nu}{8} + \\frac{1}{16} & - \\frac{1}{16} & - \\frac{\\nu}{8} + \\frac{3}{16}\\end{matrix}\\right]$$"
      ],
      "text/plain": [
       "⎡  ν   3                        ν   1     ν   3                          ν   1\n",
       "⎢- ─ + ──    1/16     -1/16     ─ - ──    ─ - ──    -1/16      1/16    - ─ + ─\n",
       "⎢  4   16                       4   16    4   16                         4   1\n",
       "⎢                                                                             \n",
       "⎢            ν   3     ν   1    ν   1               ν   3     ν   1      ν   1\n",
       "⎢  1/16    - ─ + ──  - ─ + ──   ─ + ──    -1/16     ─ - ──    ─ - ──   - ─ - ─\n",
       "⎢            8   16    4   16   8   16              8   16    4   16     8   1\n",
       "⎢                                                                             \n",
       "⎢            ν   1     ν   3                        ν   1     ν   3           \n",
       "⎢ -1/16    - ─ + ──  - ─ + ──   -1/16      1/16     ─ - ──    ─ - ──     1/16 \n",
       "⎢            4   16    4   16                       4   16    4   16          \n",
       "⎢                                                                             \n",
       "⎢ ν   1     ν   1                ν   3     ν   1     ν   1              ν   3 \n",
       "⎢ ─ - ──    ─ + ──    -1/16    - ─ + ──  - ─ + ──  - ─ - ──    1/16     ─ - ──\n",
       "⎢ 4   16    8   16               8   16    4   16    8   16             8   16\n",
       "⎢                                                                             \n",
       "⎢ ν   3                          ν   1     ν   3                        ν   1 \n",
       "⎢ ─ - ──    -1/16      1/16    - ─ + ──  - ─ + ──    1/16     -1/16     ─ - ──\n",
       "⎢ 4   16                         4   16    4   16                       4   16\n",
       "⎢                                                                             \n",
       "⎢           ν   3     ν   1      ν   1               ν   3     ν   1    ν   1 \n",
       "⎢ -1/16     ─ - ──    ─ - ──   - ─ - ──    1/16    - ─ + ──  - ─ + ──   ─ + ──\n",
       "⎢           8   16    4   16     8   16              8   16    4   16   8   16\n",
       "⎢                                                                             \n",
       "⎢           ν   1     ν   3                          ν   1     ν   3          \n",
       "⎢  1/16     ─ - ──    ─ - ──     1/16     -1/16    - ─ + ──  - ─ + ──   -1/16 \n",
       "⎢           4   16    4   16                         4   16    4   16         \n",
       "⎢                                                                             \n",
       "⎢  ν   1     ν   1              ν   3     ν   1     ν   1                ν   3\n",
       "⎢- ─ + ──  - ─ - ──    1/16     ─ - ──    ─ - ──    ─ + ──    -1/16    - ─ + ─\n",
       "⎣  4   16    8   16             8   16    4   16    8   16               8   1\n",
       "\n",
       " ⎤\n",
       "─⎥\n",
       "6⎥\n",
       " ⎥\n",
       " ⎥\n",
       "─⎥\n",
       "6⎥\n",
       " ⎥\n",
       " ⎥\n",
       " ⎥\n",
       " ⎥\n",
       " ⎥\n",
       " ⎥\n",
       " ⎥\n",
       " ⎥\n",
       " ⎥\n",
       " ⎥\n",
       " ⎥\n",
       " ⎥\n",
       " ⎥\n",
       " ⎥\n",
       " ⎥\n",
       " ⎥\n",
       " ⎥\n",
       " ⎥\n",
       " ⎥\n",
       " ⎥\n",
       " ⎥\n",
       " ⎥\n",
       "─⎥\n",
       "6⎦"
      ]
     },
     "metadata": {},
     "output_type": "display_data"
    }
   ],
   "source": [
    "K_1pts = simplify(K_inte.subs({r:0, s:0})*wts[0])\n",
    "display(K_1pts)"
   ]
  },
  {
   "cell_type": "code",
   "execution_count": 13,
   "metadata": {
    "collapsed": false
   },
   "outputs": [],
   "source": [
    "K_2pts = zeros(8, 8)\n",
    "for row in range(8):\n",
    "    for col in range(8):\n",
    "        K_2pts[row, col] = sum(wts[1][kx]*wts[1][ky]*\n",
    "                               K_inte[row, col].subs({r: pts[1][kx], s:pts[1][ky]})\n",
    "                               for kx in range(2) for ky in range(2))\n",
    "\n"
   ]
  },
  {
   "cell_type": "code",
   "execution_count": 14,
   "metadata": {
    "collapsed": false
   },
   "outputs": [
    {
     "data": {
      "image/png": "[encoded data removed]",
      "text/latex": [
       "$$\\left[\\begin{matrix}0 & 0 & 0 & 0 & 0 & 0 & 0 & 0\\\\0 & 0 & 0 & 0 & 0 & 0 & 0 & 0\\\\0 & 0 & 0 & 0 & 0 & 0 & 0 & 0\\\\0 & 0 & 0 & 0 & 0 & 0 & 0 & 0\\\\0 & 0 & 0 & 0 & 0 & 0 & 0 & 0\\\\0 & 0 & 0 & 0 & 0 & 0 & 0 & 0\\\\0 & 0 & 0 & 0 & 0 & 0 & 0 & 0\\\\0 & 0 & 0 & 0 & 0 & 0 & 0 & 0\\end{matrix}\\right]$$"
      ],
      "text/plain": [
       "⎡0  0  0  0  0  0  0  0⎤\n",
       "⎢                      ⎥\n",
       "⎢0  0  0  0  0  0  0  0⎥\n",
       "⎢                      ⎥\n",
       "⎢0  0  0  0  0  0  0  0⎥\n",
       "⎢                      ⎥\n",
       "⎢0  0  0  0  0  0  0  0⎥\n",
       "⎢                      ⎥\n",
       "⎢0  0  0  0  0  0  0  0⎥\n",
       "⎢                      ⎥\n",
       "⎢0  0  0  0  0  0  0  0⎥\n",
       "⎢                      ⎥\n",
       "⎢0  0  0  0  0  0  0  0⎥\n",
       "⎢                      ⎥\n",
       "⎣0  0  0  0  0  0  0  0⎦"
      ]
     },
     "execution_count": 14,
     "metadata": {},
     "output_type": "execute_result"
    }
   ],
   "source": [
    "simplify(K_2pts - K)"
   ]
  },
  {
   "cell_type": "code",
   "execution_count": 15,
   "metadata": {
    "collapsed": true
   },
   "outputs": [],
   "source": [
    "K_3pts = zeros(8, 8)\n",
    "for row in range(8):\n",
    "    for col in range(8):\n",
    "        K_3pts[row, col] = sum(wts[2][kx]*wts[2][ky]*\n",
    "                        K_inte[row, col].subs({r: pts[2][kx], s:pts[2][ky]})\n",
    "                        for kx in range(3) for ky in range(3))\n",
    "\n"
   ]
  },
  {
   "cell_type": "code",
   "execution_count": 17,
   "metadata": {
    "collapsed": false
   },
   "outputs": [
    {
     "data": {
      "image/png": "[encoded data removed]",
      "text/latex": [
       "$$\\left[\\begin{matrix}0 & 0 & 0 & 0 & 0 & 0 & 0 & 0\\\\0 & 0 & 0 & 0 & 0 & 0 & 0 & 0\\\\0 & 0 & 0 & 0 & 0 & 0 & 0 & 0\\\\0 & 0 & 0 & 0 & 0 & 0 & 0 & 0\\\\0 & 0 & 0 & 0 & 0 & 0 & 0 & 0\\\\0 & 0 & 0 & 0 & 0 & 0 & 0 & 0\\\\0 & 0 & 0 & 0 & 0 & 0 & 0 & 0\\\\0 & 0 & 0 & 0 & 0 & 0 & 0 & 0\\end{matrix}\\right]$$"
      ],
      "text/plain": [
       "⎡0  0  0  0  0  0  0  0⎤\n",
       "⎢                      ⎥\n",
       "⎢0  0  0  0  0  0  0  0⎥\n",
       "⎢                      ⎥\n",
       "⎢0  0  0  0  0  0  0  0⎥\n",
       "⎢                      ⎥\n",
       "⎢0  0  0  0  0  0  0  0⎥\n",
       "⎢                      ⎥\n",
       "⎢0  0  0  0  0  0  0  0⎥\n",
       "⎢                      ⎥\n",
       "⎢0  0  0  0  0  0  0  0⎥\n",
       "⎢                      ⎥\n",
       "⎢0  0  0  0  0  0  0  0⎥\n",
       "⎢                      ⎥\n",
       "⎣0  0  0  0  0  0  0  0⎦"
      ]
     },
     "execution_count": 17,
     "metadata": {},
     "output_type": "execute_result"
    }
   ],
   "source": [
    "simplify(K_3pts - K)"
   ]
  },
  {
   "cell_type": "code",
   "execution_count": null,
   "metadata": {
    "collapsed": true
   },
   "outputs": [],
   "source": []
  },
  {
   "cell_type": "code",
   "execution_count": null,
   "metadata": {
    "collapsed": true
   },
   "outputs": [],
   "source": []
  },
  {
   "cell_type": "markdown",
   "metadata": {},
   "source": [
    "# References\n",
    "\n",
    "1. Bathe, Klaus-Jürgen. Finite element procedures. Klaus-Jurgen Bathe, 2006."
   ]
  },
  {
   "cell_type": "code",
   "execution_count": 18,
   "metadata": {
    "collapsed": false
   },
   "outputs": [
    {
     "data": {
      "text/html": [
       "\n",
       "<link href='http://fonts.googleapis.com/css?family=Fenix' rel='stylesheet' type='text/css'>\n",
       "<link href='http://fonts.googleapis.com/css?family=Alegreya+Sans:100,300,400,500,700,800,900,100italic,300italic,400italic,500italic,700italic,800italic,900italic' rel='stylesheet' type='text/css'>\n",
       "<link href='http://fonts.googleapis.com/css?family=Source+Code+Pro:300,400' rel='stylesheet' type='text/css'>\n",
       "<style>\n",
       "/* Based on Lorena Barba template available at: https://github.com/barbagroup/AeroPython/blob/master/styles/custom.css*/\n",
       "@font-face {\n",
       "font-family: \"Computer Modern\";\n",
       "src: url('http://mirrors.ctan.org/fonts/cm-unicode/fonts/otf/cmunss.otf');\n",
       "}\n",
       "div.cell{\n",
       "width:800px;\n",
       "margin-left:16% !important;\n",
       "margin-right:auto;\n",
       "}\n",
       "h1 {\n",
       "font-family: 'Alegreya Sans', sans-serif;\n",
       "}\n",
       "h2 {\n",
       "font-family: 'Fenix', serif;\n",
       "}\n",
       "h3{\n",
       "font-family: 'Fenix', serif;\n",
       "margin-top:12px;\n",
       "margin-bottom: 3px;\n",
       "}\n",
       "h4{\n",
       "font-family: 'Fenix', serif;\n",
       "}\n",
       "h5 {\n",
       "font-family: 'Alegreya Sans', sans-serif;\n",
       "}\t\n",
       "div.text_cell_render{\n",
       "font-family: 'Alegreya Sans',Computer Modern, \"Helvetica Neue\", Arial, Helvetica, Geneva, sans-serif;\n",
       "line-height: 135%;\n",
       "font-size: 120%;\n",
       "width:600px;\n",
       "margin-left:auto;\n",
       "margin-right:auto;\n",
       "}\n",
       ".CodeMirror{\n",
       "font-family: \"Source Code Pro\";\n",
       "font-size: 90%;\n",
       "}\n",
       "/* .prompt{\n",
       "display: None;\n",
       "}*/\n",
       ".text_cell_render h1 {\n",
       "font-weight: 200;\n",
       "font-size: 50pt;\n",
       "line-height: 100%;\n",
       "color:#CD2305;\n",
       "margin-bottom: 0.5em;\n",
       "margin-top: 0.5em;\n",
       "display: block;\n",
       "}\t\n",
       ".text_cell_render h5 {\n",
       "font-weight: 300;\n",
       "font-size: 16pt;\n",
       "color: #CD2305;\n",
       "font-style: italic;\n",
       "margin-bottom: .5em;\n",
       "margin-top: 0.5em;\n",
       "display: block;\n",
       "}\n",
       ".warning{\n",
       "color: rgb( 240, 20, 20 )\n",
       "}\n",
       "</style>\n",
       "<script>\n",
       "MathJax.Hub.Config({\n",
       "TeX: {\n",
       "extensions: [\"AMSmath.js\"]\n",
       "},\n",
       "tex2jax: {\n",
       "inlineMath: [ ['$','$'], [\"\\\\(\",\"\\\\)\"] ],\n",
       "displayMath: [ ['$$','$$'], [\"\\\\[\",\"\\\\]\"] ]\n",
       "},\n",
       "displayAlign: 'center', // Change this to 'center' to center equations.\n",
       "\"HTML-CSS\": {\n",
       "styles: {'.MathJax_Display': {\"margin\": 4}}\n",
       "}\n",
       "});\n",
       "</script>\n",
       "\n"
      ],
      "text/plain": [
       "<IPython.core.display.HTML object>"
      ]
     },
     "execution_count": 18,
     "metadata": {},
     "output_type": "execute_result"
    }
   ],
   "source": [
    "from IPython.core.display import HTML\n",
    "def css_styling():\n",
    "    styles = open('./styles/custom_barba.css', 'r').read()\n",
    "    return HTML(styles)\n",
    "css_styling()"
   ]
  },
  {
   "cell_type": "code",
   "execution_count": null,
   "metadata": {
    "collapsed": true
   },
   "outputs": [],
   "source": []
  }
 ],
 "metadata": {
  "anaconda-cloud": {},
  "kernelspec": {
   "display_name": "Python 3",
   "language": "python",
   "name": "python3"
  },
  "language_info": {
   "codemirror_mode": {
    "name": "ipython",
    "version": 3
   },
   "file_extension": ".py",
   "mimetype": "text/x-python",
   "name": "python",
   "nbconvert_exporter": "python",
   "pygments_lexer": "ipython3",
   "version": "3.6.0"
  }
 },
 "nbformat": 4,
 "nbformat_minor": 0
}
