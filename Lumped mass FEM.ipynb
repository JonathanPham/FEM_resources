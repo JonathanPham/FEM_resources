{
 "cells": [
  {
   "cell_type": "markdown",
   "metadata": {},
   "source": [
    "# Mass matrix diagonalization (lumping)"
   ]
  },
  {
   "cell_type": "code",
   "execution_count": 1,
   "metadata": {
    "collapsed": false
   },
   "outputs": [
    {
     "name": "stdout",
     "output_type": "stream",
     "text": [
      "IPython console for SymPy 1.0 (Python 3.6.0-64-bit) (ground types: python)\n",
      "\n",
      "These commands were executed:\n",
      ">>> from __future__ import division\n",
      ">>> from sympy import *\n",
      ">>> x, y, z, t = symbols('x y z t')\n",
      ">>> k, m, n = symbols('k m n', integer=True)\n",
      ">>> f, g, h = symbols('f g h', cls=Function)\n",
      ">>> init_printing()\n",
      "\n",
      "Documentation can be found at http://docs.sympy.org/1.0/\n"
     ]
    }
   ],
   "source": [
    "from sympy import *\n",
    "init_session()"
   ]
  },
  {
   "cell_type": "markdown",
   "metadata": {},
   "source": [
    "## Elemental mass matrices"
   ]
  },
  {
   "cell_type": "code",
   "execution_count": 2,
   "metadata": {
    "collapsed": false
   },
   "outputs": [],
   "source": [
    "def mass_tet4():\n",
    "    \"\"\"Mass matrix for a 4 node tetrahedron\"\"\"\n",
    "    r, s, t = symbols(\"r s t\")\n",
    "    N = Matrix([1 - r - s - t, r, s, t])\n",
    "    return (N * N.T).integrate((t, 0, 1 - r - s), (s, 0, 1 - r), (r, 0, 1))\n",
    "\n",
    "\n",
    "def mass_quad8():\n",
    "    \"\"\"Mass matrix for a 8 node quadrilateral\"\"\"\n",
    "    r, s = symbols(\"r s\")\n",
    "    Haux = Matrix([\n",
    "        (1 - r**2)*(1 + s),\n",
    "        (1 - s**2)*(1 - r),\n",
    "        (1 - r**2)*(1 - s),\n",
    "        (1 - s**2)*(1 + r)])\n",
    "    N = S(1)/4*Matrix([\n",
    "            (1 + r)*(1 + s) - Haux[0] - Haux[3],\n",
    "            (1 - r)*(1 + s) - Haux[0] - Haux[1],\n",
    "            (1 - r)*(1 - s) - Haux[1] - Haux[2],\n",
    "            (1 + r)*(1 - s) - Haux[2] - Haux[3],\n",
    "           2*Haux[0], 2*Haux[1], 2*Haux[2], 2*Haux[3]])\n",
    "    return (N * N.T).integrate((s, -1, 1), (r, -1, 1))   "
   ]
  },
  {
   "cell_type": "markdown",
   "metadata": {},
   "source": [
    "The elemental mass matrices look like"
   ]
  },
  {
   "cell_type": "code",
   "execution_count": 3,
   "metadata": {
    "collapsed": false
   },
   "outputs": [
    {
     "data": {
      "image/png": "[encoded data removed]",
      "text/latex": [
       "$$\\left[\\begin{matrix}\\frac{1}{60} & \\frac{1}{120} & \\frac{1}{120} & \\frac{1}{120}\\\\\\frac{1}{120} & \\frac{1}{60} & \\frac{1}{120} & \\frac{1}{120}\\\\\\frac{1}{120} & \\frac{1}{120} & \\frac{1}{60} & \\frac{1}{120}\\\\\\frac{1}{120} & \\frac{1}{120} & \\frac{1}{120} & \\frac{1}{60}\\end{matrix}\\right]$$"
      ],
      "text/plain": [
       "⎡1/60   1/120  1/120  1/120⎤\n",
       "⎢                          ⎥\n",
       "⎢1/120  1/60   1/120  1/120⎥\n",
       "⎢                          ⎥\n",
       "⎢1/120  1/120  1/60   1/120⎥\n",
       "⎢                          ⎥\n",
       "⎣1/120  1/120  1/120  1/60 ⎦"
      ]
     },
     "execution_count": 3,
     "metadata": {},
     "output_type": "execute_result"
    }
   ],
   "source": [
    "mass_tet4()"
   ]
  },
  {
   "cell_type": "code",
   "execution_count": 4,
   "metadata": {
    "collapsed": false
   },
   "outputs": [
    {
     "data": {
      "image/png": "[encoded data removed]",
      "text/latex": [
       "$$\\left[\\begin{matrix}\\frac{2}{15} & \\frac{2}{45} & \\frac{1}{15} & \\frac{2}{45} & - \\frac{2}{15} & - \\frac{8}{45} & - \\frac{8}{45} & - \\frac{2}{15}\\\\\\frac{2}{45} & \\frac{2}{15} & \\frac{2}{45} & \\frac{1}{15} & - \\frac{2}{15} & - \\frac{2}{15} & - \\frac{8}{45} & - \\frac{8}{45}\\\\\\frac{1}{15} & \\frac{2}{45} & \\frac{2}{15} & \\frac{2}{45} & - \\frac{8}{45} & - \\frac{2}{15} & - \\frac{2}{15} & - \\frac{8}{45}\\\\\\frac{2}{45} & \\frac{1}{15} & \\frac{2}{45} & \\frac{2}{15} & - \\frac{8}{45} & - \\frac{8}{45} & - \\frac{2}{15} & - \\frac{2}{15}\\\\- \\frac{2}{15} & - \\frac{2}{15} & - \\frac{8}{45} & - \\frac{8}{45} & \\frac{32}{45} & \\frac{4}{9} & \\frac{16}{45} & \\frac{4}{9}\\\\- \\frac{8}{45} & - \\frac{2}{15} & - \\frac{2}{15} & - \\frac{8}{45} & \\frac{4}{9} & \\frac{32}{45} & \\frac{4}{9} & \\frac{16}{45}\\\\- \\frac{8}{45} & - \\frac{8}{45} & - \\frac{2}{15} & - \\frac{2}{15} & \\frac{16}{45} & \\frac{4}{9} & \\frac{32}{45} & \\frac{4}{9}\\\\- \\frac{2}{15} & - \\frac{8}{45} & - \\frac{8}{45} & - \\frac{2}{15} & \\frac{4}{9} & \\frac{16}{45} & \\frac{4}{9} & \\frac{32}{45}\\end{matrix}\\right]$$"
      ],
      "text/plain": [
       "⎡2/15   2/45   1/15   2/45   -2/15  -8/45  -8/45  -2/15⎤\n",
       "⎢                                                      ⎥\n",
       "⎢2/45   2/15   2/45   1/15   -2/15  -2/15  -8/45  -8/45⎥\n",
       "⎢                                                      ⎥\n",
       "⎢1/15   2/45   2/15   2/45   -8/45  -2/15  -2/15  -8/45⎥\n",
       "⎢                                                      ⎥\n",
       "⎢2/45   1/15   2/45   2/15   -8/45  -8/45  -2/15  -2/15⎥\n",
       "⎢                                                      ⎥\n",
       "⎢                             32            16         ⎥\n",
       "⎢-2/15  -2/15  -8/45  -8/45   ──     4/9    ──     4/9 ⎥\n",
       "⎢                             45            45         ⎥\n",
       "⎢                                                      ⎥\n",
       "⎢                                    32            16  ⎥\n",
       "⎢-8/45  -2/15  -2/15  -8/45   4/9    ──     4/9    ──  ⎥\n",
       "⎢                                    45            45  ⎥\n",
       "⎢                                                      ⎥\n",
       "⎢                             16            32         ⎥\n",
       "⎢-8/45  -8/45  -2/15  -2/15   ──     4/9    ──     4/9 ⎥\n",
       "⎢                             45            45         ⎥\n",
       "⎢                                                      ⎥\n",
       "⎢                                    16            32  ⎥\n",
       "⎢-2/15  -8/45  -8/45  -2/15   4/9    ──     4/9    ──  ⎥\n",
       "⎣                                    45            45  ⎦"
      ]
     },
     "execution_count": 4,
     "metadata": {},
     "output_type": "execute_result"
    }
   ],
   "source": [
    "mass_quad8()"
   ]
  },
  {
   "cell_type": "markdown",
   "metadata": {},
   "source": [
    "## Lumping"
   ]
  },
  {
   "cell_type": "markdown",
   "metadata": {},
   "source": [
    "One method for lumping is to sum the matrix per rows, i.e.\n",
    "\n",
    "$$M^\\text{(lumped)}_{ii}= \\sum_{j} M_{ij}$$"
   ]
  },
  {
   "cell_type": "code",
   "execution_count": 5,
   "metadata": {
    "collapsed": true
   },
   "outputs": [],
   "source": [
    "def row_lump(mass_mat):\n",
    "    \"\"\"Matrix lumping by row summing\"\"\"\n",
    "    return diag(*[sum(mass_mat[i, :]) for i in range(mass_mat.shape[0])])"
   ]
  },
  {
   "cell_type": "markdown",
   "metadata": {},
   "source": [
    "One method for lumping is to sum the matrix per rows, i.e.\n",
    "\n",
    "$$M^\\text{(lumped)}_{ii} = c M_{ii}$$\n",
    "\n",
    "with $c$ adjusted to satisfy $\\sum_j M^\\text{(lumped)}_{jj} = \\int_\\Omega \\rho d\\Omega$. Particularly, we can choose $c = Tr(M)/M_\\text{total}$."
   ]
  },
  {
   "cell_type": "code",
   "execution_count": 6,
   "metadata": {
    "collapsed": false
   },
   "outputs": [],
   "source": [
    "def diag_scaling_lump(mass_mat):\n",
    "    \"\"\"Matrix lumping by diagonal scaling method\"\"\"\n",
    "    mass = sum(mass_mat)\n",
    "    trace = mass_mat.trace()\n",
    "    c = mass/trace\n",
    "    return diag(*[c*mass_mat[i, i] for i in range(mass_mat.shape[0])])"
   ]
  },
  {
   "cell_type": "code",
   "execution_count": 7,
   "metadata": {
    "collapsed": true
   },
   "outputs": [],
   "source": [
    "def min_dist_lump(mass_mat):\n",
    "    \"\"\"\n",
    "    Matrix lumping by minimizing the Frobenius norm subject\n",
    "    to a constraint of conservation of mass.\n",
    "    \"\"\"\n",
    "    num = mass_mat.shape[0]\n",
    "    mass = sum(mass_mat)\n",
    "    lamda = symbols(\"lambda\")\n",
    "    Ms = symbols('M0:%d'%num)\n",
    "    var = list(Ms)\n",
    "    mass_diag = diag(*var)\n",
    "    C = mass_mat - mass_diag\n",
    "    fun = (C.T*C).trace() + lamda*(mass - sum(mass_diag))    \n",
    "    var.append(lamda)\n",
    "    grad = [diff(fun, x) for x in var]\n",
    "    sol = solve(grad, var)\n",
    "    return diag(*list(sol.values())[:-1])"
   ]
  },
  {
   "cell_type": "markdown",
   "metadata": {},
   "source": [
    "We can compare the methods for the tetrahedron"
   ]
  },
  {
   "cell_type": "code",
   "execution_count": 8,
   "metadata": {
    "collapsed": false
   },
   "outputs": [
    {
     "data": {
      "image/png": "[encoded data removed]",
      "text/latex": [
       "$$\\left[\\begin{matrix}\\frac{1}{24} & 0 & 0 & 0\\\\0 & \\frac{1}{24} & 0 & 0\\\\0 & 0 & \\frac{1}{24} & 0\\\\0 & 0 & 0 & \\frac{1}{24}\\end{matrix}\\right]$$"
      ],
      "text/plain": [
       "⎡1/24   0     0     0  ⎤\n",
       "⎢                      ⎥\n",
       "⎢ 0    1/24   0     0  ⎥\n",
       "⎢                      ⎥\n",
       "⎢ 0     0    1/24   0  ⎥\n",
       "⎢                      ⎥\n",
       "⎣ 0     0     0    1/24⎦"
      ]
     },
     "execution_count": 8,
     "metadata": {},
     "output_type": "execute_result"
    }
   ],
   "source": [
    "row_lump(mass_tet4())"
   ]
  },
  {
   "cell_type": "code",
   "execution_count": 9,
   "metadata": {
    "collapsed": false
   },
   "outputs": [
    {
     "data": {
      "image/png": "[encoded data removed]",
      "text/latex": [
       "$$\\left[\\begin{matrix}\\frac{1}{24} & 0 & 0 & 0\\\\0 & \\frac{1}{24} & 0 & 0\\\\0 & 0 & \\frac{1}{24} & 0\\\\0 & 0 & 0 & \\frac{1}{24}\\end{matrix}\\right]$$"
      ],
      "text/plain": [
       "⎡1/24   0     0     0  ⎤\n",
       "⎢                      ⎥\n",
       "⎢ 0    1/24   0     0  ⎥\n",
       "⎢                      ⎥\n",
       "⎢ 0     0    1/24   0  ⎥\n",
       "⎢                      ⎥\n",
       "⎣ 0     0     0    1/24⎦"
      ]
     },
     "execution_count": 9,
     "metadata": {},
     "output_type": "execute_result"
    }
   ],
   "source": [
    "diag_scaling_lump(mass_tet4())"
   ]
  },
  {
   "cell_type": "code",
   "execution_count": 10,
   "metadata": {
    "collapsed": false
   },
   "outputs": [
    {
     "data": {
      "image/png": "[encoded data removed]",
      "text/latex": [
       "$$\\left[\\begin{matrix}\\frac{1}{24} & 0 & 0 & 0\\\\0 & \\frac{1}{24} & 0 & 0\\\\0 & 0 & \\frac{1}{24} & 0\\\\0 & 0 & 0 & \\frac{1}{24}\\end{matrix}\\right]$$"
      ],
      "text/plain": [
       "⎡1/24   0     0     0  ⎤\n",
       "⎢                      ⎥\n",
       "⎢ 0    1/24   0     0  ⎥\n",
       "⎢                      ⎥\n",
       "⎢ 0     0    1/24   0  ⎥\n",
       "⎢                      ⎥\n",
       "⎣ 0     0     0    1/24⎦"
      ]
     },
     "execution_count": 10,
     "metadata": {},
     "output_type": "execute_result"
    }
   ],
   "source": [
    "min_dist_lump(mass_tet4())"
   ]
  },
  {
   "cell_type": "markdown",
   "metadata": {},
   "source": [
    "We can compare the methods for the serendipity quadrilaterals. For this type \n",
    "of element we can't use the row lumping method since it leads to negative\n",
    "masses."
   ]
  },
  {
   "cell_type": "code",
   "execution_count": 11,
   "metadata": {
    "collapsed": false
   },
   "outputs": [
    {
     "data": {
      "image/png": "[encoded data removed]",
      "text/latex": [
       "$$\\left[\\begin{matrix}- \\frac{1}{3} & 0 & 0 & 0 & 0 & 0 & 0 & 0\\\\0 & - \\frac{1}{3} & 0 & 0 & 0 & 0 & 0 & 0\\\\0 & 0 & - \\frac{1}{3} & 0 & 0 & 0 & 0 & 0\\\\0 & 0 & 0 & - \\frac{1}{3} & 0 & 0 & 0 & 0\\\\0 & 0 & 0 & 0 & \\frac{4}{3} & 0 & 0 & 0\\\\0 & 0 & 0 & 0 & 0 & \\frac{4}{3} & 0 & 0\\\\0 & 0 & 0 & 0 & 0 & 0 & \\frac{4}{3} & 0\\\\0 & 0 & 0 & 0 & 0 & 0 & 0 & \\frac{4}{3}\\end{matrix}\\right]$$"
      ],
      "text/plain": [
       "⎡-1/3   0     0     0     0    0    0    0 ⎤\n",
       "⎢                                          ⎥\n",
       "⎢ 0    -1/3   0     0     0    0    0    0 ⎥\n",
       "⎢                                          ⎥\n",
       "⎢ 0     0    -1/3   0     0    0    0    0 ⎥\n",
       "⎢                                          ⎥\n",
       "⎢ 0     0     0    -1/3   0    0    0    0 ⎥\n",
       "⎢                                          ⎥\n",
       "⎢ 0     0     0     0    4/3   0    0    0 ⎥\n",
       "⎢                                          ⎥\n",
       "⎢ 0     0     0     0     0   4/3   0    0 ⎥\n",
       "⎢                                          ⎥\n",
       "⎢ 0     0     0     0     0    0   4/3   0 ⎥\n",
       "⎢                                          ⎥\n",
       "⎣ 0     0     0     0     0    0    0   4/3⎦"
      ]
     },
     "execution_count": 11,
     "metadata": {},
     "output_type": "execute_result"
    }
   ],
   "source": [
    "row_lump(mass_quad8())"
   ]
  },
  {
   "cell_type": "code",
   "execution_count": 12,
   "metadata": {
    "collapsed": false
   },
   "outputs": [
    {
     "data": {
      "image/png": "[encoded data removed]",
      "text/latex": [
       "$$\\left[\\begin{matrix}\\frac{3}{19} & 0 & 0 & 0 & 0 & 0 & 0 & 0\\\\0 & \\frac{3}{19} & 0 & 0 & 0 & 0 & 0 & 0\\\\0 & 0 & \\frac{3}{19} & 0 & 0 & 0 & 0 & 0\\\\0 & 0 & 0 & \\frac{3}{19} & 0 & 0 & 0 & 0\\\\0 & 0 & 0 & 0 & \\frac{16}{19} & 0 & 0 & 0\\\\0 & 0 & 0 & 0 & 0 & \\frac{16}{19} & 0 & 0\\\\0 & 0 & 0 & 0 & 0 & 0 & \\frac{16}{19} & 0\\\\0 & 0 & 0 & 0 & 0 & 0 & 0 & \\frac{16}{19}\\end{matrix}\\right]$$"
      ],
      "text/plain": [
       "⎡3/19   0     0     0    0   0   0   0 ⎤\n",
       "⎢                                      ⎥\n",
       "⎢ 0    3/19   0     0    0   0   0   0 ⎥\n",
       "⎢                                      ⎥\n",
       "⎢ 0     0    3/19   0    0   0   0   0 ⎥\n",
       "⎢                                      ⎥\n",
       "⎢ 0     0     0    3/19  0   0   0   0 ⎥\n",
       "⎢                                      ⎥\n",
       "⎢                        16            ⎥\n",
       "⎢ 0     0     0     0    ──  0   0   0 ⎥\n",
       "⎢                        19            ⎥\n",
       "⎢                                      ⎥\n",
       "⎢                            16        ⎥\n",
       "⎢ 0     0     0     0    0   ──  0   0 ⎥\n",
       "⎢                            19        ⎥\n",
       "⎢                                      ⎥\n",
       "⎢                                16    ⎥\n",
       "⎢ 0     0     0     0    0   0   ──  0 ⎥\n",
       "⎢                                19    ⎥\n",
       "⎢                                      ⎥\n",
       "⎢                                    16⎥\n",
       "⎢ 0     0     0     0    0   0   0   ──⎥\n",
       "⎣                                    19⎦"
      ]
     },
     "execution_count": 12,
     "metadata": {},
     "output_type": "execute_result"
    }
   ],
   "source": [
    "diag_scaling_lump(mass_quad8())"
   ]
  },
  {
   "cell_type": "code",
   "execution_count": 13,
   "metadata": {
    "collapsed": false
   },
   "outputs": [
    {
     "data": {
      "image/png": "[encoded data removed]",
      "text/latex": [
       "$$\\left[\\begin{matrix}\\frac{19}{90} & 0 & 0 & 0 & 0 & 0 & 0 & 0\\\\0 & \\frac{19}{90} & 0 & 0 & 0 & 0 & 0 & 0\\\\0 & 0 & \\frac{19}{90} & 0 & 0 & 0 & 0 & 0\\\\0 & 0 & 0 & \\frac{19}{90} & 0 & 0 & 0 & 0\\\\0 & 0 & 0 & 0 & \\frac{71}{90} & 0 & 0 & 0\\\\0 & 0 & 0 & 0 & 0 & \\frac{71}{90} & 0 & 0\\\\0 & 0 & 0 & 0 & 0 & 0 & \\frac{71}{90} & 0\\\\0 & 0 & 0 & 0 & 0 & 0 & 0 & \\frac{71}{90}\\end{matrix}\\right]$$"
      ],
      "text/plain": [
       "⎡19                            ⎤\n",
       "⎢──  0   0   0   0   0   0   0 ⎥\n",
       "⎢90                            ⎥\n",
       "⎢                              ⎥\n",
       "⎢    19                        ⎥\n",
       "⎢0   ──  0   0   0   0   0   0 ⎥\n",
       "⎢    90                        ⎥\n",
       "⎢                              ⎥\n",
       "⎢        19                    ⎥\n",
       "⎢0   0   ──  0   0   0   0   0 ⎥\n",
       "⎢        90                    ⎥\n",
       "⎢                              ⎥\n",
       "⎢            19                ⎥\n",
       "⎢0   0   0   ──  0   0   0   0 ⎥\n",
       "⎢            90                ⎥\n",
       "⎢                              ⎥\n",
       "⎢                71            ⎥\n",
       "⎢0   0   0   0   ──  0   0   0 ⎥\n",
       "⎢                90            ⎥\n",
       "⎢                              ⎥\n",
       "⎢                    71        ⎥\n",
       "⎢0   0   0   0   0   ──  0   0 ⎥\n",
       "⎢                    90        ⎥\n",
       "⎢                              ⎥\n",
       "⎢                        71    ⎥\n",
       "⎢0   0   0   0   0   0   ──  0 ⎥\n",
       "⎢                        90    ⎥\n",
       "⎢                              ⎥\n",
       "⎢                            71⎥\n",
       "⎢0   0   0   0   0   0   0   ──⎥\n",
       "⎣                            90⎦"
      ]
     },
     "execution_count": 13,
     "metadata": {},
     "output_type": "execute_result"
    }
   ],
   "source": [
    "min_dist_lump(mass_quad8())"
   ]
  },
  {
   "cell_type": "code",
   "execution_count": null,
   "metadata": {
    "collapsed": true
   },
   "outputs": [],
   "source": []
  },
  {
   "cell_type": "code",
   "execution_count": 14,
   "metadata": {
    "collapsed": false
   },
   "outputs": [
    {
     "data": {
      "text/html": [
       "\n",
       "<link href='http://fonts.googleapis.com/css?family=Fenix' rel='stylesheet' type='text/css'>\n",
       "<link href='http://fonts.googleapis.com/css?family=Alegreya+Sans:100,300,400,500,700,800,900,100italic,300italic,400italic,500italic,700italic,800italic,900italic' rel='stylesheet' type='text/css'>\n",
       "<link href='http://fonts.googleapis.com/css?family=Source+Code+Pro:300,400' rel='stylesheet' type='text/css'>\n",
       "<style>\n",
       "/* Based on Lorena Barba template available at: https://github.com/barbagroup/AeroPython/blob/master/styles/custom.css*/\n",
       "@font-face {\n",
       "font-family: \"Computer Modern\";\n",
       "src: url('http://mirrors.ctan.org/fonts/cm-unicode/fonts/otf/cmunss.otf');\n",
       "}\n",
       "div.cell{\n",
       "width:800px;\n",
       "margin-left:16% !important;\n",
       "margin-right:auto;\n",
       "}\n",
       "h1 {\n",
       "font-family: 'Alegreya Sans', sans-serif;\n",
       "}\n",
       "h2 {\n",
       "font-family: 'Fenix', serif;\n",
       "}\n",
       "h3{\n",
       "font-family: 'Fenix', serif;\n",
       "margin-top:12px;\n",
       "margin-bottom: 3px;\n",
       "}\n",
       "h4{\n",
       "font-family: 'Fenix', serif;\n",
       "}\n",
       "h5 {\n",
       "font-family: 'Alegreya Sans', sans-serif;\n",
       "}\t\n",
       "div.text_cell_render{\n",
       "font-family: 'Alegreya Sans',Computer Modern, \"Helvetica Neue\", Arial, Helvetica, Geneva, sans-serif;\n",
       "line-height: 135%;\n",
       "font-size: 120%;\n",
       "width:600px;\n",
       "margin-left:auto;\n",
       "margin-right:auto;\n",
       "}\n",
       ".CodeMirror{\n",
       "font-family: \"Source Code Pro\";\n",
       "font-size: 90%;\n",
       "}\n",
       "/* .prompt{\n",
       "display: None;\n",
       "}*/\n",
       ".text_cell_render h1 {\n",
       "font-weight: 200;\n",
       "font-size: 50pt;\n",
       "line-height: 100%;\n",
       "color:#CD2305;\n",
       "margin-bottom: 0.5em;\n",
       "margin-top: 0.5em;\n",
       "display: block;\n",
       "}\t\n",
       ".text_cell_render h5 {\n",
       "font-weight: 300;\n",
       "font-size: 16pt;\n",
       "color: #CD2305;\n",
       "font-style: italic;\n",
       "margin-bottom: .5em;\n",
       "margin-top: 0.5em;\n",
       "display: block;\n",
       "}\n",
       ".warning{\n",
       "color: rgb( 240, 20, 20 )\n",
       "}\n",
       "</style>\n",
       "<script>\n",
       "MathJax.Hub.Config({\n",
       "TeX: {\n",
       "extensions: [\"AMSmath.js\"]\n",
       "},\n",
       "tex2jax: {\n",
       "inlineMath: [ ['$','$'], [\"\\\\(\",\"\\\\)\"] ],\n",
       "displayMath: [ ['$$','$$'], [\"\\\\[\",\"\\\\]\"] ]\n",
       "},\n",
       "displayAlign: 'center', // Change this to 'center' to center equations.\n",
       "\"HTML-CSS\": {\n",
       "styles: {'.MathJax_Display': {\"margin\": 4}}\n",
       "}\n",
       "});\n",
       "</script>\n",
       "\n"
      ],
      "text/plain": [
       "<IPython.core.display.HTML object>"
      ]
     },
     "execution_count": 14,
     "metadata": {},
     "output_type": "execute_result"
    }
   ],
   "source": [
    "from IPython.core.display import HTML\n",
    "def css_styling():\n",
    "    styles = open('./styles/custom_barba.css', 'r').read()\n",
    "    return HTML(styles)\n",
    "css_styling()"
   ]
  },
  {
   "cell_type": "code",
   "execution_count": null,
   "metadata": {
    "collapsed": true
   },
   "outputs": [],
   "source": []
  }
 ],
 "metadata": {
  "kernelspec": {
   "display_name": "Python 3",
   "language": "python",
   "name": "python3"
  },
  "language_info": {
   "codemirror_mode": {
    "name": "ipython",
    "version": 3
   },
   "file_extension": ".py",
   "mimetype": "text/x-python",
   "name": "python",
   "nbconvert_exporter": "python",
   "pygments_lexer": "ipython3",
   "version": "3.6.0"
  }
 },
 "nbformat": 4,
 "nbformat_minor": 2
}
