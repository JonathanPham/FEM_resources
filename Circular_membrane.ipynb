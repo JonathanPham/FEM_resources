{
 "cells": [
  {
   "cell_type": "code",
   "execution_count": 204,
   "metadata": {
    "collapsed": true
   },
   "outputs": [],
   "source": [
    "from __future__ import division, print_function\n",
    "from sympy import *\n",
    "from sympy.plotting import plot3d"
   ]
  },
  {
   "cell_type": "code",
   "execution_count": 205,
   "metadata": {
    "collapsed": false
   },
   "outputs": [
    {
     "name": "stdout",
     "output_type": "stream",
     "text": [
      "IPython console for SymPy 1.0 (Python 2.7.10-32-bit) (ground types: python)\n",
      "\n",
      "These commands were executed:\n",
      ">>> from __future__ import division\n",
      ">>> from sympy import *\n",
      ">>> x, y, z, t = symbols('x y z t')\n",
      ">>> k, m, n = symbols('k m n', integer=True)\n",
      ">>> f, g, h = symbols('f g h', cls=Function)\n",
      ">>> init_printing()\n",
      "\n",
      "Documentation can be found at http://docs.sympy.org/1.0/\n"
     ]
    }
   ],
   "source": [
    "init_session()\n",
    "%matplotlib inline"
   ]
  },
  {
   "cell_type": "code",
   "execution_count": 206,
   "metadata": {
    "collapsed": true
   },
   "outputs": [],
   "source": [
    "def u_fun(r, m):\n",
    "    \"\"\" Trial function. \"\"\"\n",
    "    c = symbols('c0:%i' % m)\n",
    "    #w = sum(c[k]*cos((2*k + 1)*pi/2*r) for k in range(0, m))\n",
    "    w = (1 - r**2) *sum(c[k]*r**(2*k) for k in range(0, m))\n",
    "    return w, c"
   ]
  },
  {
   "cell_type": "code",
   "execution_count": 207,
   "metadata": {
    "collapsed": false
   },
   "outputs": [],
   "source": [
    "r = symbols('r')\n",
    "m = 4\n",
    "u, coef = u_fun(r, m)"
   ]
  },
  {
   "cell_type": "code",
   "execution_count": 208,
   "metadata": {
    "collapsed": false
   },
   "outputs": [],
   "source": [
    "T_inte = u**2\n",
    "U_inte = diff(u, r)**2"
   ]
  },
  {
   "cell_type": "code",
   "execution_count": 209,
   "metadata": {
    "collapsed": false
   },
   "outputs": [
    {
     "data": {
      "image/png": "[encoded data removed]",
      "text/latex": [
       "$$\\left(- 2 r \\left(c_{0} + c_{1} r^{2} + c_{2} r^{4} + c_{3} r^{6}\\right) + \\left(- r^{2} + 1\\right) \\left(2 c_{1} r + 4 c_{2} r^{3} + 6 c_{3} r^{5}\\right)\\right)^{2}$$"
      ],
      "text/plain": [
       "                                                                              \n",
       "⎛      ⎛         2       4       6⎞   ⎛   2    ⎞ ⎛               3         5⎞⎞\n",
       "⎝- 2⋅r⋅⎝c₀ + c₁⋅r  + c₂⋅r  + c₃⋅r ⎠ + ⎝- r  + 1⎠⋅⎝2⋅c₁⋅r + 4⋅c₂⋅r  + 6⋅c₃⋅r ⎠⎠\n",
       "\n",
       "2\n",
       " \n",
       " "
      ]
     },
     "metadata": {},
     "output_type": "display_data"
    },
    {
     "data": {
      "image/png": "[encoded data removed]",
      "text/latex": [
       "$$\\left(- r^{2} + 1\\right)^{2} \\left(c_{0} + c_{1} r^{2} + c_{2} r^{4} + c_{3} r^{6}\\right)^{2}$$"
      ],
      "text/plain": [
       "          2                             2\n",
       "⎛   2    ⎞  ⎛         2       4       6⎞ \n",
       "⎝- r  + 1⎠ ⋅⎝c₀ + c₁⋅r  + c₂⋅r  + c₃⋅r ⎠ "
      ]
     },
     "metadata": {},
     "output_type": "display_data"
    }
   ],
   "source": [
    "display(U_inte)\n",
    "display(T_inte)"
   ]
  },
  {
   "cell_type": "code",
   "execution_count": 210,
   "metadata": {
    "collapsed": false
   },
   "outputs": [],
   "source": [
    "U = integrate(expand(r*U_inte), (r, 0, 1))\n",
    "T = integrate(expand(r*T_inte), (r, 0, 1))"
   ]
  },
  {
   "cell_type": "code",
   "execution_count": 211,
   "metadata": {
    "collapsed": false
   },
   "outputs": [
    {
     "data": {
      "image/png": "[encoded data removed]",
      "text/latex": [
       "$$c_{0}^{2} + \\frac{2 c_{0}}{3} c_{1} + \\frac{c_{0} c_{2}}{3} + \\frac{c_{0} c_{3}}{5} + \\frac{c_{1}^{2}}{3} + \\frac{7 c_{1}}{15} c_{2} + \\frac{c_{1} c_{3}}{3} + \\frac{c_{2}^{2}}{5} + \\frac{34 c_{2}}{105} c_{3} + \\frac{c_{3}^{2}}{7}$$"
      ],
      "text/plain": [
       "                                  2                       2                2\n",
       "  2   2⋅c₀⋅c₁   c₀⋅c₂   c₀⋅c₃   c₁    7⋅c₁⋅c₂   c₁⋅c₃   c₂    34⋅c₂⋅c₃   c₃ \n",
       "c₀  + ─────── + ───── + ───── + ─── + ─────── + ───── + ─── + ──────── + ───\n",
       "         3        3       5      3       15       3      5      105       7 "
      ]
     },
     "metadata": {},
     "output_type": "display_data"
    },
    {
     "data": {
      "image/png": "[encoded data removed]",
      "text/latex": [
       "$$\\frac{c_{0}^{2}}{6} + \\frac{c_{0} c_{1}}{12} + \\frac{c_{0} c_{2}}{30} + \\frac{c_{0} c_{3}}{60} + \\frac{c_{1}^{2}}{60} + \\frac{c_{1} c_{2}}{60} + \\frac{c_{1} c_{3}}{105} + \\frac{c_{2}^{2}}{210} + \\frac{c_{2} c_{3}}{168} + \\frac{c_{3}^{2}}{504}$$"
      ],
      "text/plain": [
       "  2                             2                     2             2\n",
       "c₀    c₀⋅c₁   c₀⋅c₂   c₀⋅c₃   c₁    c₁⋅c₂   c₁⋅c₃   c₂    c₂⋅c₃   c₃ \n",
       "─── + ───── + ───── + ───── + ─── + ───── + ───── + ─── + ───── + ───\n",
       " 6      12      30      60     60     60     105    210    168    504"
      ]
     },
     "metadata": {},
     "output_type": "display_data"
    }
   ],
   "source": [
    "display(U)\n",
    "display(T)"
   ]
  },
  {
   "cell_type": "code",
   "execution_count": 212,
   "metadata": {
    "collapsed": false
   },
   "outputs": [
    {
     "data": {
      "image/png": "[encoded data removed]",
      "text/latex": [
       "$$\\left[\\begin{matrix}2 & \\frac{2}{3} & \\frac{1}{3} & \\frac{1}{5}\\\\\\frac{2}{3} & \\frac{2}{3} & \\frac{7}{15} & \\frac{1}{3}\\\\\\frac{1}{3} & \\frac{7}{15} & \\frac{2}{5} & \\frac{34}{105}\\\\\\frac{1}{5} & \\frac{1}{3} & \\frac{34}{105} & \\frac{2}{7}\\end{matrix}\\right]$$"
      ],
      "text/plain": [
       "⎡ 2   2/3   1/3   1/5⎤\n",
       "⎢                    ⎥\n",
       "⎢2/3  2/3   7/15  1/3⎥\n",
       "⎢                    ⎥\n",
       "⎢                  34⎥\n",
       "⎢1/3  7/15  2/5   ───⎥\n",
       "⎢                 105⎥\n",
       "⎢                    ⎥\n",
       "⎢            34      ⎥\n",
       "⎢1/5  1/3   ───   2/7⎥\n",
       "⎣           105      ⎦"
      ]
     },
     "execution_count": 212,
     "metadata": {},
     "output_type": "execute_result"
    }
   ],
   "source": [
    "K = Matrix(m, m, lambda ii, jj: diff(U, coef[ii], coef[jj]))\n",
    "K"
   ]
  },
  {
   "cell_type": "code",
   "execution_count": 213,
   "metadata": {
    "collapsed": false
   },
   "outputs": [
    {
     "data": {
      "image/png": "[encoded data removed]",
      "text/latex": [
       "$$\\left[\\begin{matrix}\\frac{1}{3} & \\frac{1}{12} & \\frac{1}{30} & \\frac{1}{60}\\\\\\frac{1}{12} & \\frac{1}{30} & \\frac{1}{60} & \\frac{1}{105}\\\\\\frac{1}{30} & \\frac{1}{60} & \\frac{1}{105} & \\frac{1}{168}\\\\\\frac{1}{60} & \\frac{1}{105} & \\frac{1}{168} & \\frac{1}{252}\\end{matrix}\\right]$$"
      ],
      "text/plain": [
       "⎡1/3   1/12   1/30   1/60 ⎤\n",
       "⎢                         ⎥\n",
       "⎢1/12  1/30   1/60   1/105⎥\n",
       "⎢                         ⎥\n",
       "⎢1/30  1/60   1/105  1/168⎥\n",
       "⎢                         ⎥\n",
       "⎣1/60  1/105  1/168  1/252⎦"
      ]
     },
     "execution_count": 213,
     "metadata": {},
     "output_type": "execute_result"
    }
   ],
   "source": [
    "M = Matrix(m, m, lambda ii, jj: diff(T, coef[ii], coef[jj]))\n",
    "M"
   ]
  },
  {
   "cell_type": "code",
   "execution_count": 214,
   "metadata": {
    "collapsed": true
   },
   "outputs": [],
   "source": [
    "Kn = np.array(K)\n",
    "Mn = np.array(M)"
   ]
  },
  {
   "cell_type": "code",
   "execution_count": 218,
   "metadata": {
    "collapsed": false
   },
   "outputs": [
    {
     "data": {
      "text/plain": [
       "array([  2.40482556,   5.52038927,   8.84484136,  16.41678707])"
      ]
     },
     "execution_count": 218,
     "metadata": {},
     "output_type": "execute_result"
    }
   ],
   "source": [
    "import scipy.linalg as LA\n",
    "from scipy.special import jn_zeros\n",
    "vals, vecs = LA.eigh(Kn, Mn, eigvals=(0, m-1))\n",
    "np.sqrt(vals)"
   ]
  },
  {
   "cell_type": "code",
   "execution_count": 219,
   "metadata": {
    "collapsed": false
   },
   "outputs": [
    {
     "data": {
      "text/plain": [
       "array([  2.40482556,   5.52007811,   8.65372791,  11.79153444])"
      ]
     },
     "execution_count": 219,
     "metadata": {},
     "output_type": "execute_result"
    }
   ],
   "source": [
    "jn_zeros(0, m)"
   ]
  },
  {
   "cell_type": "code",
   "execution_count": null,
   "metadata": {
    "collapsed": true
   },
   "outputs": [],
   "source": []
  }
 ],
 "metadata": {
  "kernelspec": {
   "display_name": "Python 2",
   "language": "python",
   "name": "python2"
  },
  "language_info": {
   "codemirror_mode": {
    "name": "ipython",
    "version": 2
   },
   "file_extension": ".py",
   "mimetype": "text/x-python",
   "name": "python",
   "nbconvert_exporter": "python",
   "pygments_lexer": "ipython2",
   "version": "2.7.10"
  }
 },
 "nbformat": 4,
 "nbformat_minor": 0
}
